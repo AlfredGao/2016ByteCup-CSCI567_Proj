{
 "cells": [
  {
   "cell_type": "code",
   "execution_count": 1,
   "metadata": {
    "collapsed": true
   },
   "outputs": [],
   "source": [
    "import pandas as pd\n",
    "import numpy as np\n",
    "import matplotlib.pyplot as plt"
   ]
  },
  {
   "cell_type": "code",
   "execution_count": 2,
   "metadata": {
    "collapsed": true
   },
   "outputs": [],
   "source": [
    "invited_info = pd.read_csv('invited_info_csv.txt', sep='\\t')\n",
    "question_info = pd.read_csv('question_info_csv.txt', sep='\\t')\n",
    "user_info = pd.read_csv('user_info_csv.txt', sep='\\t')"
   ]
  },
  {
   "cell_type": "code",
   "execution_count": 3,
   "metadata": {
    "collapsed": false
   },
   "outputs": [],
   "source": [
    "invited_info = invited_info.drop(['Unnamed: 0'], axis=1)\n",
    "question_info = question_info.drop(['Unnamed: 0'], axis=1)\n",
    "user_info = user_info.drop(['Unnamed: 0'], axis=1)"
   ]
  },
  {
   "cell_type": "code",
   "execution_count": 4,
   "metadata": {
    "collapsed": false
   },
   "outputs": [],
   "source": [
    "all_info = invited_info.merge(question_info, left_on='qid', right_on='qid', how='left')"
   ]
  },
  {
   "cell_type": "code",
   "execution_count": 5,
   "metadata": {
    "collapsed": false
   },
   "outputs": [],
   "source": [
    "all_info = all_info.merge(user_info, left_on='uid', right_on='uid', how='left')"
   ]
  },
  {
   "cell_type": "code",
   "execution_count": 6,
   "metadata": {
    "collapsed": false
   },
   "outputs": [],
   "source": [
    "# all_info.head()"
   ]
  },
  {
   "cell_type": "code",
   "execution_count": 7,
   "metadata": {
    "collapsed": false
   },
   "outputs": [],
   "source": [
    "label_series = all_info['label']"
   ]
  },
  {
   "cell_type": "code",
   "execution_count": 8,
   "metadata": {
    "collapsed": false
   },
   "outputs": [],
   "source": [
    "label_array = np.array(label_series)"
   ]
  },
  {
   "cell_type": "code",
   "execution_count": 9,
   "metadata": {
    "collapsed": false
   },
   "outputs": [],
   "source": [
    "feature_dataframe = all_info.loc[:, 'qwid':'utag_142']"
   ]
  },
  {
   "cell_type": "code",
   "execution_count": 10,
   "metadata": {
    "collapsed": false
   },
   "outputs": [],
   "source": [
    "feature_name = list(feature_dataframe.columns)\n",
    "# feature_name"
   ]
  },
  {
   "cell_type": "code",
   "execution_count": 11,
   "metadata": {
    "collapsed": false
   },
   "outputs": [],
   "source": [
    "feature_matrix = feature_dataframe.as_matrix()"
   ]
  },
  {
   "cell_type": "code",
   "execution_count": 12,
   "metadata": {
    "collapsed": false
   },
   "outputs": [],
   "source": [
    "# from sklearn.feature_selection import RFE\n",
    "# from sklearn.linear_model import SGDRegressor\n",
    "# model = SGDRegressor()\n",
    "# selector = RFE(model, step=1)\n",
    "# selector = selector.fit(feature_matrix, label_array)\n",
    "\n",
    "# model.fit(feature_matrix, label_array)"
   ]
  },
  {
   "cell_type": "code",
   "execution_count": 13,
   "metadata": {
    "collapsed": false
   },
   "outputs": [],
   "source": [
    "validate_nolabel = pd.read_csv('./bytecup2016data/validate_nolabel.txt', sep=',')"
   ]
  },
  {
   "cell_type": "code",
   "execution_count": 14,
   "metadata": {
    "collapsed": false
   },
   "outputs": [],
   "source": [
    "# validate_nolabel.head()"
   ]
  },
  {
   "cell_type": "code",
   "execution_count": 15,
   "metadata": {
    "collapsed": true
   },
   "outputs": [],
   "source": [
    "valitate_set = validate_nolabel.merge(question_info, left_on='qid', right_on='qid', how='left')"
   ]
  },
  {
   "cell_type": "code",
   "execution_count": 16,
   "metadata": {
    "collapsed": true
   },
   "outputs": [],
   "source": [
    "valitate_set = valitate_set.merge(user_info, left_on='uid', right_on='uid', how='left')"
   ]
  },
  {
   "cell_type": "code",
   "execution_count": 17,
   "metadata": {
    "collapsed": false
   },
   "outputs": [],
   "source": [
    "# valitate_set.head()"
   ]
  },
  {
   "cell_type": "code",
   "execution_count": 18,
   "metadata": {
    "collapsed": true
   },
   "outputs": [],
   "source": [
    "valitate_set_matrix = valitate_set.loc[:,'qwid':'utag_142'].as_matrix()"
   ]
  },
  {
   "cell_type": "code",
   "execution_count": 19,
   "metadata": {
    "collapsed": false
   },
   "outputs": [
    {
     "data": {
      "text/plain": [
       "(30466, 172)"
      ]
     },
     "execution_count": 19,
     "metadata": {},
     "output_type": "execute_result"
    }
   ],
   "source": [
    "valitate_set_matrix.shape"
   ]
  },
  {
   "cell_type": "code",
   "execution_count": 20,
   "metadata": {
    "collapsed": false
   },
   "outputs": [],
   "source": [
    "# predict_result = model.predict(valitate_set_matrix)\n",
    "# predict_result\n",
    "\n",
    "# validate_nolabel['label'] = predict_result + 0.2"
   ]
  },
  {
   "cell_type": "code",
   "execution_count": 21,
   "metadata": {
    "collapsed": false
   },
   "outputs": [],
   "source": [
    "# validate_nolabel.to_csv('validate_nolabel.csv', sep=',', index=False)"
   ]
  },
  {
   "cell_type": "code",
   "execution_count": 22,
   "metadata": {
    "collapsed": false
   },
   "outputs": [],
   "source": [
    "from sklearn.decomposition import IncrementalPCA\n",
    "ipca = IncrementalPCA(n_components=90)\n",
    "ipca.fit(feature_matrix)\n",
    "feature_matrix_pca = ipca.transform(feature_matrix) "
   ]
  },
  {
   "cell_type": "code",
   "execution_count": 23,
   "metadata": {
    "collapsed": false
   },
   "outputs": [],
   "source": [
    "# feature_matrix_pca.shape"
   ]
  },
  {
   "cell_type": "code",
   "execution_count": 24,
   "metadata": {
    "collapsed": true
   },
   "outputs": [],
   "source": [
    "ipca2 = IncrementalPCA(n_components=90)\n",
    "ipca2.fit(valitate_set_matrix)\n",
    "valitate_set_matrix_pca = ipca2.transform(valitate_set_matrix)"
   ]
  },
  {
   "cell_type": "code",
   "execution_count": 25,
   "metadata": {
    "collapsed": false
   },
   "outputs": [],
   "source": [
    "# valitate_set_matrix_pca.shape"
   ]
  },
  {
   "cell_type": "code",
   "execution_count": 26,
   "metadata": {
    "collapsed": false
   },
   "outputs": [],
   "source": [
    "# from sklearn.linear_model import SGDRegressor\n",
    "# model = SGDRegressor()\n",
    "# model.fit(feature_matrix_pca, label_array)"
   ]
  },
  {
   "cell_type": "code",
   "execution_count": 27,
   "metadata": {
    "collapsed": false
   },
   "outputs": [],
   "source": [
    "# predict_result = model.predict(valitate_set_matrix_pca)"
   ]
  },
  {
   "cell_type": "code",
   "execution_count": 28,
   "metadata": {
    "collapsed": false
   },
   "outputs": [],
   "source": [
    "# max(predict_result)"
   ]
  },
  {
   "cell_type": "code",
   "execution_count": 29,
   "metadata": {
    "collapsed": false
   },
   "outputs": [],
   "source": [
    "import xgboost as xgb"
   ]
  },
  {
   "cell_type": "code",
   "execution_count": 44,
   "metadata": {
    "collapsed": false
   },
   "outputs": [],
   "source": [
    "dtrain = xgb.DMatrix(feature_matrix[:160608], label=label_array[:160608], feature_names=feature_name)"
   ]
  },
  {
   "cell_type": "code",
   "execution_count": 45,
   "metadata": {
    "collapsed": false
   },
   "outputs": [],
   "source": [
    "dtest = xgb.DMatrix(feature_matrix[160608:], label=label_array[160608:], feature_names=feature_name)"
   ]
  },
  {
   "cell_type": "code",
   "execution_count": 32,
   "metadata": {
    "collapsed": false
   },
   "outputs": [],
   "source": [
    "# dtrain"
   ]
  },
  {
   "cell_type": "code",
   "execution_count": 53,
   "metadata": {
    "collapsed": true
   },
   "outputs": [],
   "source": [
    "param = {'bst:max_depth':7, 'bst:eta':1, 'silent':1, 'objective':'reg:logistic' }\n",
    "param['nthread'] = 4\n",
    "param['eval_metric'] = 'mae'"
   ]
  },
  {
   "cell_type": "code",
   "execution_count": 54,
   "metadata": {
    "collapsed": false
   },
   "outputs": [],
   "source": [
    "num_round = 100"
   ]
  },
  {
   "cell_type": "code",
   "execution_count": 55,
   "metadata": {
    "collapsed": true
   },
   "outputs": [],
   "source": [
    "evallist  = [(dtest,'eval'), (dtrain,'train')]"
   ]
  },
  {
   "cell_type": "code",
   "execution_count": 56,
   "metadata": {
    "collapsed": false
   },
   "outputs": [
    {
     "name": "stdout",
     "output_type": "stream",
     "text": [
      "[0]\teval-mae:0.413709\ttrain-mae:0.390843\n",
      "[1]\teval-mae:0.362414\ttrain-mae:0.347444\n",
      "[2]\teval-mae:0.326074\ttrain-mae:0.316535\n",
      "[3]\teval-mae:0.30002\ttrain-mae:0.294365\n",
      "[4]\teval-mae:0.281176\ttrain-mae:0.278339\n",
      "[5]\teval-mae:0.267716\ttrain-mae:0.266872\n",
      "[6]\teval-mae:0.257994\ttrain-mae:0.258462\n",
      "[7]\teval-mae:0.250967\ttrain-mae:0.252513\n",
      "[8]\teval-mae:0.245768\ttrain-mae:0.248002\n",
      "[9]\teval-mae:0.241946\ttrain-mae:0.244637\n",
      "[10]\teval-mae:0.239291\ttrain-mae:0.24229\n",
      "[11]\teval-mae:0.237178\ttrain-mae:0.240305\n",
      "[12]\teval-mae:0.23579\ttrain-mae:0.239037\n",
      "[13]\teval-mae:0.234527\ttrain-mae:0.237836\n",
      "[14]\teval-mae:0.233369\ttrain-mae:0.236619\n",
      "[15]\teval-mae:0.232697\ttrain-mae:0.236003\n",
      "[16]\teval-mae:0.23205\ttrain-mae:0.235344\n",
      "[17]\teval-mae:0.231276\ttrain-mae:0.234531\n",
      "[18]\teval-mae:0.230947\ttrain-mae:0.234181\n",
      "[19]\teval-mae:0.230541\ttrain-mae:0.233682\n",
      "[20]\teval-mae:0.230206\ttrain-mae:0.233229\n",
      "[21]\teval-mae:0.230035\ttrain-mae:0.233\n",
      "[22]\teval-mae:0.229848\ttrain-mae:0.232758\n",
      "[23]\teval-mae:0.229641\ttrain-mae:0.232545\n",
      "[24]\teval-mae:0.229415\ttrain-mae:0.232138\n",
      "[25]\teval-mae:0.229181\ttrain-mae:0.231805\n",
      "[26]\teval-mae:0.229003\ttrain-mae:0.231598\n",
      "[27]\teval-mae:0.228806\ttrain-mae:0.231268\n",
      "[28]\teval-mae:0.228531\ttrain-mae:0.230839\n",
      "[29]\teval-mae:0.228351\ttrain-mae:0.230505\n",
      "[30]\teval-mae:0.228205\ttrain-mae:0.230311\n",
      "[31]\teval-mae:0.227987\ttrain-mae:0.229991\n",
      "[32]\teval-mae:0.227551\ttrain-mae:0.22951\n",
      "[33]\teval-mae:0.227495\ttrain-mae:0.229428\n",
      "[34]\teval-mae:0.227406\ttrain-mae:0.22925\n",
      "[35]\teval-mae:0.227155\ttrain-mae:0.228971\n",
      "[36]\teval-mae:0.22693\ttrain-mae:0.228697\n",
      "[37]\teval-mae:0.226686\ttrain-mae:0.228335\n",
      "[38]\teval-mae:0.226527\ttrain-mae:0.228008\n",
      "[39]\teval-mae:0.226428\ttrain-mae:0.227851\n",
      "[40]\teval-mae:0.226293\ttrain-mae:0.22757\n",
      "[41]\teval-mae:0.225909\ttrain-mae:0.227146\n",
      "[42]\teval-mae:0.225765\ttrain-mae:0.22692\n",
      "[43]\teval-mae:0.225519\ttrain-mae:0.226491\n",
      "[44]\teval-mae:0.225454\ttrain-mae:0.226417\n",
      "[45]\teval-mae:0.225089\ttrain-mae:0.226012\n",
      "[46]\teval-mae:0.224841\ttrain-mae:0.225691\n",
      "[47]\teval-mae:0.2247\ttrain-mae:0.225512\n",
      "[48]\teval-mae:0.224371\ttrain-mae:0.225148\n",
      "[49]\teval-mae:0.224125\ttrain-mae:0.224822\n",
      "[50]\teval-mae:0.223684\ttrain-mae:0.224344\n",
      "[51]\teval-mae:0.223138\ttrain-mae:0.2238\n",
      "[52]\teval-mae:0.222673\ttrain-mae:0.223098\n",
      "[53]\teval-mae:0.22253\ttrain-mae:0.222869\n",
      "[54]\teval-mae:0.222328\ttrain-mae:0.222573\n",
      "[55]\teval-mae:0.222274\ttrain-mae:0.222479\n",
      "[56]\teval-mae:0.222229\ttrain-mae:0.222403\n",
      "[57]\teval-mae:0.222145\ttrain-mae:0.222233\n",
      "[58]\teval-mae:0.222038\ttrain-mae:0.222127\n",
      "[59]\teval-mae:0.2219\ttrain-mae:0.221956\n",
      "[60]\teval-mae:0.221583\ttrain-mae:0.221601\n",
      "[61]\teval-mae:0.221405\ttrain-mae:0.221405\n",
      "[62]\teval-mae:0.221035\ttrain-mae:0.220965\n",
      "[63]\teval-mae:0.221001\ttrain-mae:0.220907\n",
      "[64]\teval-mae:0.220824\ttrain-mae:0.220574\n",
      "[65]\teval-mae:0.220686\ttrain-mae:0.220257\n",
      "[66]\teval-mae:0.220583\ttrain-mae:0.220118\n",
      "[67]\teval-mae:0.220479\ttrain-mae:0.219907\n",
      "[68]\teval-mae:0.220351\ttrain-mae:0.219735\n",
      "[69]\teval-mae:0.220305\ttrain-mae:0.219676\n",
      "[70]\teval-mae:0.219785\ttrain-mae:0.21914\n",
      "[71]\teval-mae:0.219524\ttrain-mae:0.218803\n",
      "[72]\teval-mae:0.219464\ttrain-mae:0.218662\n",
      "[73]\teval-mae:0.219434\ttrain-mae:0.218587\n",
      "[74]\teval-mae:0.219381\ttrain-mae:0.218468\n",
      "[75]\teval-mae:0.219265\ttrain-mae:0.218213\n",
      "[76]\teval-mae:0.219254\ttrain-mae:0.218196\n",
      "[77]\teval-mae:0.219079\ttrain-mae:0.217963\n",
      "[78]\teval-mae:0.218978\ttrain-mae:0.217825\n",
      "[79]\teval-mae:0.218733\ttrain-mae:0.21747\n",
      "[80]\teval-mae:0.218404\ttrain-mae:0.217072\n",
      "[81]\teval-mae:0.218323\ttrain-mae:0.216941\n",
      "[82]\teval-mae:0.218143\ttrain-mae:0.216714\n",
      "[83]\teval-mae:0.217672\ttrain-mae:0.216225\n",
      "[84]\teval-mae:0.21739\ttrain-mae:0.215801\n",
      "[85]\teval-mae:0.217108\ttrain-mae:0.215475\n",
      "[86]\teval-mae:0.217048\ttrain-mae:0.215382\n",
      "[87]\teval-mae:0.2169\ttrain-mae:0.21505\n",
      "[88]\teval-mae:0.216762\ttrain-mae:0.214809\n",
      "[89]\teval-mae:0.216592\ttrain-mae:0.214471\n",
      "[90]\teval-mae:0.216482\ttrain-mae:0.214336\n",
      "[91]\teval-mae:0.216438\ttrain-mae:0.214234\n",
      "[92]\teval-mae:0.216372\ttrain-mae:0.214113\n",
      "[93]\teval-mae:0.216277\ttrain-mae:0.21396\n",
      "[94]\teval-mae:0.21626\ttrain-mae:0.213885\n",
      "[95]\teval-mae:0.216169\ttrain-mae:0.213743\n",
      "[96]\teval-mae:0.216136\ttrain-mae:0.213709\n",
      "[97]\teval-mae:0.216017\ttrain-mae:0.213558\n",
      "[98]\teval-mae:0.215993\ttrain-mae:0.213456\n",
      "[99]\teval-mae:0.21593\ttrain-mae:0.213268\n"
     ]
    }
   ],
   "source": [
    "bst = xgb.train( param.items(), dtrain, num_round, evallist)"
   ]
  },
  {
   "cell_type": "code",
   "execution_count": 37,
   "metadata": {
    "collapsed": false
   },
   "outputs": [],
   "source": [
    "# bst.get_fscore()"
   ]
  },
  {
   "cell_type": "code",
   "execution_count": 57,
   "metadata": {
    "collapsed": false
   },
   "outputs": [],
   "source": [
    "dvalidate = xgb.DMatrix(valitate_set_matrix, feature_names=feature_name)"
   ]
  },
  {
   "cell_type": "code",
   "execution_count": 58,
   "metadata": {
    "collapsed": false
   },
   "outputs": [],
   "source": [
    "pre = bst.predict(dvalidate)\n",
    "# from graphviz import *"
   ]
  },
  {
   "cell_type": "code",
   "execution_count": 59,
   "metadata": {
    "collapsed": false
   },
   "outputs": [],
   "source": [
    "# fig1 = plt.figure(figsize=(15, 15))"
   ]
  },
  {
   "cell_type": "code",
   "execution_count": 60,
   "metadata": {
    "collapsed": true
   },
   "outputs": [],
   "source": [
    "validate_nolabel['label'] = pre"
   ]
  },
  {
   "cell_type": "code",
   "execution_count": 61,
   "metadata": {
    "collapsed": true
   },
   "outputs": [],
   "source": [
    "validate_nolabel.to_csv('validate_nolabel.csv', sep=',', index=False)"
   ]
  },
  {
   "cell_type": "code",
   "execution_count": 63,
   "metadata": {
    "collapsed": false
   },
   "outputs": [
    {
     "data": {
      "text/plain": [
       "{'#ans': 200,\n",
       " '#tqans': 151,\n",
       " '#tqans/#ans': 237,\n",
       " '#upvotes': 253,\n",
       " '#upvotes/#ans': 271,\n",
       " 'qcid': 356,\n",
       " 'qtag_0': 4,\n",
       " 'qtag_1': 11,\n",
       " 'qtag_10': 9,\n",
       " 'qtag_11': 1,\n",
       " 'qtag_12': 7,\n",
       " 'qtag_13': 14,\n",
       " 'qtag_14': 3,\n",
       " 'qtag_15': 7,\n",
       " 'qtag_16': 9,\n",
       " 'qtag_17': 2,\n",
       " 'qtag_18': 9,\n",
       " 'qtag_19': 11,\n",
       " 'qtag_2': 19,\n",
       " 'qtag_3': 28,\n",
       " 'qtag_4': 7,\n",
       " 'qtag_5': 18,\n",
       " 'qtag_6': 9,\n",
       " 'qtag_7': 10,\n",
       " 'qtag_8': 10,\n",
       " 'qtag_9': 15,\n",
       " 'qwid': 324,\n",
       " 'ucid': 844,\n",
       " 'utag_0': 19,\n",
       " 'utag_1': 7,\n",
       " 'utag_100': 2,\n",
       " 'utag_103': 14,\n",
       " 'utag_104': 1,\n",
       " 'utag_105': 3,\n",
       " 'utag_106': 6,\n",
       " 'utag_107': 5,\n",
       " 'utag_108': 3,\n",
       " 'utag_110': 3,\n",
       " 'utag_111': 5,\n",
       " 'utag_112': 2,\n",
       " 'utag_115': 2,\n",
       " 'utag_116': 4,\n",
       " 'utag_117': 5,\n",
       " 'utag_118': 1,\n",
       " 'utag_119': 1,\n",
       " 'utag_12': 1,\n",
       " 'utag_120': 2,\n",
       " 'utag_121': 2,\n",
       " 'utag_122': 2,\n",
       " 'utag_123': 1,\n",
       " 'utag_124': 1,\n",
       " 'utag_128': 3,\n",
       " 'utag_13': 1,\n",
       " 'utag_133': 2,\n",
       " 'utag_14': 6,\n",
       " 'utag_140': 1,\n",
       " 'utag_15': 1,\n",
       " 'utag_16': 5,\n",
       " 'utag_18': 9,\n",
       " 'utag_19': 9,\n",
       " 'utag_2': 5,\n",
       " 'utag_20': 9,\n",
       " 'utag_21': 9,\n",
       " 'utag_22': 7,\n",
       " 'utag_23': 9,\n",
       " 'utag_24': 8,\n",
       " 'utag_25': 5,\n",
       " 'utag_28': 2,\n",
       " 'utag_29': 2,\n",
       " 'utag_3': 6,\n",
       " 'utag_30': 5,\n",
       " 'utag_31': 14,\n",
       " 'utag_32': 20,\n",
       " 'utag_33': 9,\n",
       " 'utag_34': 4,\n",
       " 'utag_35': 6,\n",
       " 'utag_36': 7,\n",
       " 'utag_37': 5,\n",
       " 'utag_38': 12,\n",
       " 'utag_39': 5,\n",
       " 'utag_4': 1,\n",
       " 'utag_40': 4,\n",
       " 'utag_41': 5,\n",
       " 'utag_42': 4,\n",
       " 'utag_43': 8,\n",
       " 'utag_44': 4,\n",
       " 'utag_45': 2,\n",
       " 'utag_46': 7,\n",
       " 'utag_47': 4,\n",
       " 'utag_48': 6,\n",
       " 'utag_49': 10,\n",
       " 'utag_5': 2,\n",
       " 'utag_50': 8,\n",
       " 'utag_51': 5,\n",
       " 'utag_52': 9,\n",
       " 'utag_53': 8,\n",
       " 'utag_54': 4,\n",
       " 'utag_55': 1,\n",
       " 'utag_56': 4,\n",
       " 'utag_57': 3,\n",
       " 'utag_58': 3,\n",
       " 'utag_59': 2,\n",
       " 'utag_6': 4,\n",
       " 'utag_60': 5,\n",
       " 'utag_61': 7,\n",
       " 'utag_62': 3,\n",
       " 'utag_63': 2,\n",
       " 'utag_64': 10,\n",
       " 'utag_66': 9,\n",
       " 'utag_67': 2,\n",
       " 'utag_68': 5,\n",
       " 'utag_69': 3,\n",
       " 'utag_7': 3,\n",
       " 'utag_70': 5,\n",
       " 'utag_71': 3,\n",
       " 'utag_72': 3,\n",
       " 'utag_73': 5,\n",
       " 'utag_74': 4,\n",
       " 'utag_75': 17,\n",
       " 'utag_76': 3,\n",
       " 'utag_77': 3,\n",
       " 'utag_78': 4,\n",
       " 'utag_79': 3,\n",
       " 'utag_8': 8,\n",
       " 'utag_80': 3,\n",
       " 'utag_81': 6,\n",
       " 'utag_83': 3,\n",
       " 'utag_84': 1,\n",
       " 'utag_85': 2,\n",
       " 'utag_86': 6,\n",
       " 'utag_87': 3,\n",
       " 'utag_88': 4,\n",
       " 'utag_9': 2,\n",
       " 'utag_90': 2,\n",
       " 'utag_91': 3,\n",
       " 'utag_92': 6,\n",
       " 'utag_93': 1,\n",
       " 'utag_95': 1,\n",
       " 'utag_97': 1,\n",
       " 'utag_98': 5,\n",
       " 'utag_99': 4,\n",
       " 'uwid': 836}"
      ]
     },
     "execution_count": 63,
     "metadata": {},
     "output_type": "execute_result"
    }
   ],
   "source": [
    "bst.get_fscore()"
   ]
  },
  {
   "cell_type": "code",
   "execution_count": null,
   "metadata": {
    "collapsed": true
   },
   "outputs": [],
   "source": []
  }
 ],
 "metadata": {
  "anaconda-cloud": {},
  "kernelspec": {
   "display_name": "Python [Root]",
   "language": "python",
   "name": "Python [Root]"
  },
  "language_info": {
   "codemirror_mode": {
    "name": "ipython",
    "version": 2
   },
   "file_extension": ".py",
   "mimetype": "text/x-python",
   "name": "python",
   "nbconvert_exporter": "python",
   "pygments_lexer": "ipython2",
   "version": "2.7.12"
  }
 },
 "nbformat": 4,
 "nbformat_minor": 0
}
