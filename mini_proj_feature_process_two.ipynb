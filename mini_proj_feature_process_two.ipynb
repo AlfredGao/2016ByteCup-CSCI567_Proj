{
 "cells": [
  {
   "cell_type": "code",
   "execution_count": 1,
   "metadata": {
    "collapsed": true
   },
   "outputs": [],
   "source": [
    "import pandas as pd\n",
    "import numpy as np\n",
    "from copy import deepcopy\n",
    "import matplotlib.pyplot as plt\n",
    "import xgboost as xgb"
   ]
  },
  {
   "cell_type": "code",
   "execution_count": 15,
   "metadata": {
    "collapsed": false
   },
   "outputs": [
    {
     "data": {
      "text/html": [
       "<div>\n",
       "<table border=\"1\" class=\"dataframe\">\n",
       "  <thead>\n",
       "    <tr style=\"text-align: right;\">\n",
       "      <th></th>\n",
       "      <th>qid</th>\n",
       "      <th>uid</th>\n",
       "      <th>label</th>\n",
       "    </tr>\n",
       "  </thead>\n",
       "  <tbody>\n",
       "    <tr>\n",
       "      <th>0</th>\n",
       "      <td>1c525c9d44135bdc40ddd4b8d63738d8</td>\n",
       "      <td>e6a2ecac7f90d426103de95ba7f6d2b0</td>\n",
       "      <td>0.0</td>\n",
       "    </tr>\n",
       "    <tr>\n",
       "      <th>1</th>\n",
       "      <td>43c525e69431f916efcf8d09d99602ac</td>\n",
       "      <td>64e1c3152b0ad8ab1a3b6bbda5d2bbe8</td>\n",
       "      <td>1.0</td>\n",
       "    </tr>\n",
       "    <tr>\n",
       "      <th>2</th>\n",
       "      <td>e1a1009e93ea09bdd981029b592d89b8</td>\n",
       "      <td>405c2c59eb73d115b5d73d0d0cfc9c94</td>\n",
       "      <td>0.5</td>\n",
       "    </tr>\n",
       "    <tr>\n",
       "      <th>3</th>\n",
       "      <td>60f19c960a9300aabaf95ea49a9fe4c2</td>\n",
       "      <td>11ccc1bae27f606616070eca12441ffb</td>\n",
       "      <td>0.0</td>\n",
       "    </tr>\n",
       "    <tr>\n",
       "      <th>4</th>\n",
       "      <td>cb8f85a79be9cd9aae3af4a302b865a6</td>\n",
       "      <td>628b7aa38efb4c1ce999fe5cdf46a03e</td>\n",
       "      <td>0.0</td>\n",
       "    </tr>\n",
       "  </tbody>\n",
       "</table>\n",
       "</div>"
      ],
      "text/plain": [
       "                                qid                               uid  label\n",
       "0  1c525c9d44135bdc40ddd4b8d63738d8  e6a2ecac7f90d426103de95ba7f6d2b0    0.0\n",
       "1  43c525e69431f916efcf8d09d99602ac  64e1c3152b0ad8ab1a3b6bbda5d2bbe8    1.0\n",
       "2  e1a1009e93ea09bdd981029b592d89b8  405c2c59eb73d115b5d73d0d0cfc9c94    0.5\n",
       "3  60f19c960a9300aabaf95ea49a9fe4c2  11ccc1bae27f606616070eca12441ffb    0.0\n",
       "4  cb8f85a79be9cd9aae3af4a302b865a6  628b7aa38efb4c1ce999fe5cdf46a03e    0.0"
      ]
     },
     "execution_count": 15,
     "metadata": {},
     "output_type": "execute_result"
    }
   ],
   "source": [
    "# load train data from given txt file\n",
    "invited_info_train = pd.read_csv(\"./bytecup2016data/invited_info_train.txt\", sep='\\t', names=['qid', 'uid', 'label'])\n",
    "invited_info_train_copy = deepcopy(invited_info_train)\n",
    "\n",
    "# set inconsistent (duplicate) samples' label to 0.5\n",
    "# drop inconsistent (duplicate) samples except first one\n",
    "invited_info_train_copy.loc[invited_info_train_copy.duplicated(['qid', 'uid'], keep=False), 'label'] = 0.5\n",
    "invited_info_train_copy = invited_info_train_copy.drop_duplicates(['qid', 'uid'], keep='first')\n",
    "\n",
    "invited_info_train_copy.head()"
   ]
  },
  {
   "cell_type": "code",
   "execution_count": 3,
   "metadata": {
    "collapsed": false
   },
   "outputs": [
    {
     "data": {
      "text/html": [
       "<div>\n",
       "<table border=\"1\" class=\"dataframe\">\n",
       "  <thead>\n",
       "    <tr style=\"text-align: right;\">\n",
       "      <th></th>\n",
       "      <th>qid</th>\n",
       "      <th>qtag</th>\n",
       "      <th>qwid</th>\n",
       "      <th>qcid</th>\n",
       "      <th>#upvotes</th>\n",
       "      <th>#ans</th>\n",
       "      <th>#tqans</th>\n",
       "    </tr>\n",
       "  </thead>\n",
       "  <tbody>\n",
       "    <tr>\n",
       "      <th>0</th>\n",
       "      <td>c1c0075239841777d5b01c40b38135d2</td>\n",
       "      <td>0</td>\n",
       "      <td>0/1/2/3/4/5/6/7</td>\n",
       "      <td>0/1/2/3/4/5/6/5/7/8/9/3/10</td>\n",
       "      <td>103</td>\n",
       "      <td>6</td>\n",
       "      <td>5</td>\n",
       "    </tr>\n",
       "    <tr>\n",
       "      <th>1</th>\n",
       "      <td>367edcb36424493a7cf80f70903a64cd</td>\n",
       "      <td>1</td>\n",
       "      <td>8/9/10/11/12</td>\n",
       "      <td>11/12/13/14/15/15/16/17/12</td>\n",
       "      <td>173</td>\n",
       "      <td>10</td>\n",
       "      <td>5</td>\n",
       "    </tr>\n",
       "    <tr>\n",
       "      <th>2</th>\n",
       "      <td>fb9e401d86f20205d97a25f3aad76a67</td>\n",
       "      <td>2</td>\n",
       "      <td>13/14/15/16/17</td>\n",
       "      <td>18/19/20/21/22/23/24/25</td>\n",
       "      <td>221</td>\n",
       "      <td>5</td>\n",
       "      <td>5</td>\n",
       "    </tr>\n",
       "    <tr>\n",
       "      <th>3</th>\n",
       "      <td>e153659c6c654cd12122232fca89f4bc</td>\n",
       "      <td>3</td>\n",
       "      <td>18/19/20/21/22/23/24/21/25</td>\n",
       "      <td>26/27/28/29/30/31/32/33/34/35/36/37/38/39/33/3...</td>\n",
       "      <td>164</td>\n",
       "      <td>11</td>\n",
       "      <td>8</td>\n",
       "    </tr>\n",
       "    <tr>\n",
       "      <th>4</th>\n",
       "      <td>c1718491292fd44b9b33397d5e6a80ba</td>\n",
       "      <td>1</td>\n",
       "      <td>26/27/28/29/30/31/32/33/34/35/15</td>\n",
       "      <td>5/42/43/15/44/45/46/47/48/26/49/50/51/52/49/53...</td>\n",
       "      <td>67</td>\n",
       "      <td>3</td>\n",
       "      <td>3</td>\n",
       "    </tr>\n",
       "  </tbody>\n",
       "</table>\n",
       "</div>"
      ],
      "text/plain": [
       "                                qid  qtag                              qwid  \\\n",
       "0  c1c0075239841777d5b01c40b38135d2     0                   0/1/2/3/4/5/6/7   \n",
       "1  367edcb36424493a7cf80f70903a64cd     1                      8/9/10/11/12   \n",
       "2  fb9e401d86f20205d97a25f3aad76a67     2                    13/14/15/16/17   \n",
       "3  e153659c6c654cd12122232fca89f4bc     3        18/19/20/21/22/23/24/21/25   \n",
       "4  c1718491292fd44b9b33397d5e6a80ba     1  26/27/28/29/30/31/32/33/34/35/15   \n",
       "\n",
       "                                                qcid  #upvotes  #ans  #tqans  \n",
       "0                         0/1/2/3/4/5/6/5/7/8/9/3/10       103     6       5  \n",
       "1                         11/12/13/14/15/15/16/17/12       173    10       5  \n",
       "2                            18/19/20/21/22/23/24/25       221     5       5  \n",
       "3  26/27/28/29/30/31/32/33/34/35/36/37/38/39/33/3...       164    11       8  \n",
       "4  5/42/43/15/44/45/46/47/48/26/49/50/51/52/49/53...        67     3       3  "
      ]
     },
     "execution_count": 3,
     "metadata": {},
     "output_type": "execute_result"
    }
   ],
   "source": [
    "# load question info data from given txt file\n",
    "question_info = pd.read_csv(\"./bytecup2016data/question_info.txt\", sep='\\t', names=['qid', 'qtag', 'qwid', 'qcid', '#upvotes', '#ans', '#tqans'])\n",
    "question_info_copy = deepcopy(question_info)\n",
    "question_info_copy.head()"
   ]
  },
  {
   "cell_type": "code",
   "execution_count": 4,
   "metadata": {
    "collapsed": false
   },
   "outputs": [
    {
     "data": {
      "text/html": [
       "<div>\n",
       "<table border=\"1\" class=\"dataframe\">\n",
       "  <thead>\n",
       "    <tr style=\"text-align: right;\">\n",
       "      <th></th>\n",
       "      <th>uid</th>\n",
       "      <th>utag</th>\n",
       "      <th>uwid</th>\n",
       "      <th>ucid</th>\n",
       "    </tr>\n",
       "  </thead>\n",
       "  <tbody>\n",
       "    <tr>\n",
       "      <th>0</th>\n",
       "      <td>61fa06d8908d0e4710a599f970f0ab5a</td>\n",
       "      <td>0/1</td>\n",
       "      <td>2327/1083/1083/344/3584/1634</td>\n",
       "      <td>608/182/441/182/441/441/442/263/158/141/878</td>\n",
       "    </tr>\n",
       "    <tr>\n",
       "      <th>1</th>\n",
       "      <td>4588a1df2461674252ff01c63b59171a</td>\n",
       "      <td>2/3/4/5/6</td>\n",
       "      <td>54/11880/113/13231/13232/113/8864/444/7404</td>\n",
       "      <td>92/93/160/160/183/1022/1022/183/732/732/183/14...</td>\n",
       "    </tr>\n",
       "    <tr>\n",
       "      <th>2</th>\n",
       "      <td>e8a0f6906978da77dab3d1d779bf2904</td>\n",
       "      <td>7</td>\n",
       "      <td>45/13233/1871/13234/2182/3754/444/2644</td>\n",
       "      <td>73/953/15/291/182/168/438/1474/107/377/11/1002...</td>\n",
       "    </tr>\n",
       "    <tr>\n",
       "      <th>3</th>\n",
       "      <td>ab01652daaa15bcbbb21b7c02a8f3646</td>\n",
       "      <td>8</td>\n",
       "      <td>76/13235/2149/13236</td>\n",
       "      <td>122/129/1571/1837/749/68/300/1481/354</td>\n",
       "    </tr>\n",
       "    <tr>\n",
       "      <th>4</th>\n",
       "      <td>4c3694faef04ea6cce28d9d838fc3dda</td>\n",
       "      <td>9/10/11/12</td>\n",
       "      <td>9465/1492/1734/13237</td>\n",
       "      <td>93/1289/232/305/646/345</td>\n",
       "    </tr>\n",
       "  </tbody>\n",
       "</table>\n",
       "</div>"
      ],
      "text/plain": [
       "                                uid        utag  \\\n",
       "0  61fa06d8908d0e4710a599f970f0ab5a         0/1   \n",
       "1  4588a1df2461674252ff01c63b59171a   2/3/4/5/6   \n",
       "2  e8a0f6906978da77dab3d1d779bf2904           7   \n",
       "3  ab01652daaa15bcbbb21b7c02a8f3646           8   \n",
       "4  4c3694faef04ea6cce28d9d838fc3dda  9/10/11/12   \n",
       "\n",
       "                                         uwid  \\\n",
       "0                2327/1083/1083/344/3584/1634   \n",
       "1  54/11880/113/13231/13232/113/8864/444/7404   \n",
       "2      45/13233/1871/13234/2182/3754/444/2644   \n",
       "3                         76/13235/2149/13236   \n",
       "4                        9465/1492/1734/13237   \n",
       "\n",
       "                                                ucid  \n",
       "0        608/182/441/182/441/441/442/263/158/141/878  \n",
       "1  92/93/160/160/183/1022/1022/183/732/732/183/14...  \n",
       "2  73/953/15/291/182/168/438/1474/107/377/11/1002...  \n",
       "3              122/129/1571/1837/749/68/300/1481/354  \n",
       "4                            93/1289/232/305/646/345  "
      ]
     },
     "execution_count": 4,
     "metadata": {},
     "output_type": "execute_result"
    }
   ],
   "source": [
    "# load user info data from given txt file\n",
    "user_info = pd.read_csv(\"./bytecup2016data/user_info.txt\", sep=\"\\t\", names=['uid', 'utag', 'uwid', 'ucid'])\n",
    "user_info_copy = deepcopy(user_info)\n",
    "user_info_copy.head()"
   ]
  },
  {
   "cell_type": "code",
   "execution_count": 5,
   "metadata": {
    "collapsed": false
   },
   "outputs": [],
   "source": [
    "question_user_info = invited_info_train_copy.merge(question_info_copy, left_on='qid', right_on='qid', how='left')\n",
    "question_user_info = question_user_info.merge(user_info_copy, left_on='uid', right_on='uid', how='left')"
   ]
  },
  {
   "cell_type": "code",
   "execution_count": 6,
   "metadata": {
    "collapsed": false
   },
   "outputs": [
    {
     "data": {
      "text/html": [
       "<div>\n",
       "<table border=\"1\" class=\"dataframe\">\n",
       "  <thead>\n",
       "    <tr style=\"text-align: right;\">\n",
       "      <th></th>\n",
       "      <th>qid</th>\n",
       "      <th>uid</th>\n",
       "      <th>label</th>\n",
       "      <th>qtag</th>\n",
       "      <th>qwid</th>\n",
       "      <th>qcid</th>\n",
       "      <th>#upvotes</th>\n",
       "      <th>#ans</th>\n",
       "      <th>#tqans</th>\n",
       "      <th>utag</th>\n",
       "      <th>uwid</th>\n",
       "      <th>ucid</th>\n",
       "    </tr>\n",
       "  </thead>\n",
       "  <tbody>\n",
       "    <tr>\n",
       "      <th>0</th>\n",
       "      <td>1c525c9d44135bdc40ddd4b8d63738d8</td>\n",
       "      <td>e6a2ecac7f90d426103de95ba7f6d2b0</td>\n",
       "      <td>0.0</td>\n",
       "      <td>3</td>\n",
       "      <td>2199/1087/730/2620/2621/45/18/59/1534/263/2622...</td>\n",
       "      <td>452/5/379/353/771/225/263/4/1635/1636/73/26/27...</td>\n",
       "      <td>122</td>\n",
       "      <td>7</td>\n",
       "      <td>6</td>\n",
       "      <td>18/20</td>\n",
       "      <td>3027/4061/1560/239/9596/14642/6398/19117/286/1...</td>\n",
       "      <td>638/34/1051/131/711/49/86/14/2/1006/334/598/82...</td>\n",
       "    </tr>\n",
       "    <tr>\n",
       "      <th>1</th>\n",
       "      <td>43c525e69431f916efcf8d09d99602ac</td>\n",
       "      <td>64e1c3152b0ad8ab1a3b6bbda5d2bbe8</td>\n",
       "      <td>1.0</td>\n",
       "      <td>0</td>\n",
       "      <td>9600/2368/0/289/276/74</td>\n",
       "      <td>88/451/300/380/0/1/179/376/68/123/124/125</td>\n",
       "      <td>145</td>\n",
       "      <td>13</td>\n",
       "      <td>9</td>\n",
       "      <td>27/28/29/30</td>\n",
       "      <td>54/22/1105/1492/1685/1330/2338/67/580/1472/16553</td>\n",
       "      <td>92/93/35/1/232/305/1194/224/192/1135/967/183/1...</td>\n",
       "    </tr>\n",
       "    <tr>\n",
       "      <th>2</th>\n",
       "      <td>e1a1009e93ea09bdd981029b592d89b8</td>\n",
       "      <td>405c2c59eb73d115b5d73d0d0cfc9c94</td>\n",
       "      <td>0.5</td>\n",
       "      <td>3</td>\n",
       "      <td>502/714/4531/4532</td>\n",
       "      <td>588/588/761/648/1184/2028/90/472</td>\n",
       "      <td>390</td>\n",
       "      <td>22</td>\n",
       "      <td>20</td>\n",
       "      <td>18/20</td>\n",
       "      <td>29056/29057/13301/2457/2644/1330/1124/1492</td>\n",
       "      <td>312/665/2270/2270/573/305/39/312/1002/135/192/...</td>\n",
       "    </tr>\n",
       "    <tr>\n",
       "      <th>3</th>\n",
       "      <td>60f19c960a9300aabaf95ea49a9fe4c2</td>\n",
       "      <td>11ccc1bae27f606616070eca12441ffb</td>\n",
       "      <td>0.0</td>\n",
       "      <td>11</td>\n",
       "      <td>3678/489/3679/3680/3681/123</td>\n",
       "      <td>189/488/269/129/46/1884/1179/196/197</td>\n",
       "      <td>17</td>\n",
       "      <td>1</td>\n",
       "      <td>1</td>\n",
       "      <td>51/52/53/54</td>\n",
       "      <td>33239/14462/501/17157/22475/9438</td>\n",
       "      <td>732/732/606/1511/1511/128/587/179/1051/662/102...</td>\n",
       "    </tr>\n",
       "    <tr>\n",
       "      <th>4</th>\n",
       "      <td>cb8f85a79be9cd9aae3af4a302b865a6</td>\n",
       "      <td>628b7aa38efb4c1ce999fe5cdf46a03e</td>\n",
       "      <td>0.0</td>\n",
       "      <td>7</td>\n",
       "      <td>3394/10866/5911/3051/10867/10868/10869/10870/7...</td>\n",
       "      <td>1829/1830/461/167/319/241/49/232/1558/1036/128...</td>\n",
       "      <td>2095</td>\n",
       "      <td>132</td>\n",
       "      <td>21</td>\n",
       "      <td>32</td>\n",
       "      <td>1094/12516/14796/5925/14462/5955/10585/5693/33...</td>\n",
       "      <td>324/248/225/217/68/200/493/1511/1511/5/1642/51...</td>\n",
       "    </tr>\n",
       "  </tbody>\n",
       "</table>\n",
       "</div>"
      ],
      "text/plain": [
       "                                qid                               uid  label  \\\n",
       "0  1c525c9d44135bdc40ddd4b8d63738d8  e6a2ecac7f90d426103de95ba7f6d2b0    0.0   \n",
       "1  43c525e69431f916efcf8d09d99602ac  64e1c3152b0ad8ab1a3b6bbda5d2bbe8    1.0   \n",
       "2  e1a1009e93ea09bdd981029b592d89b8  405c2c59eb73d115b5d73d0d0cfc9c94    0.5   \n",
       "3  60f19c960a9300aabaf95ea49a9fe4c2  11ccc1bae27f606616070eca12441ffb    0.0   \n",
       "4  cb8f85a79be9cd9aae3af4a302b865a6  628b7aa38efb4c1ce999fe5cdf46a03e    0.0   \n",
       "\n",
       "   qtag                                               qwid  \\\n",
       "0     3  2199/1087/730/2620/2621/45/18/59/1534/263/2622...   \n",
       "1     0                             9600/2368/0/289/276/74   \n",
       "2     3                                  502/714/4531/4532   \n",
       "3    11                        3678/489/3679/3680/3681/123   \n",
       "4     7  3394/10866/5911/3051/10867/10868/10869/10870/7...   \n",
       "\n",
       "                                                qcid  #upvotes  #ans  #tqans  \\\n",
       "0  452/5/379/353/771/225/263/4/1635/1636/73/26/27...       122     7       6   \n",
       "1          88/451/300/380/0/1/179/376/68/123/124/125       145    13       9   \n",
       "2                   588/588/761/648/1184/2028/90/472       390    22      20   \n",
       "3               189/488/269/129/46/1884/1179/196/197        17     1       1   \n",
       "4  1829/1830/461/167/319/241/49/232/1558/1036/128...      2095   132      21   \n",
       "\n",
       "          utag                                               uwid  \\\n",
       "0        18/20  3027/4061/1560/239/9596/14642/6398/19117/286/1...   \n",
       "1  27/28/29/30   54/22/1105/1492/1685/1330/2338/67/580/1472/16553   \n",
       "2        18/20         29056/29057/13301/2457/2644/1330/1124/1492   \n",
       "3  51/52/53/54                   33239/14462/501/17157/22475/9438   \n",
       "4           32  1094/12516/14796/5925/14462/5955/10585/5693/33...   \n",
       "\n",
       "                                                ucid  \n",
       "0  638/34/1051/131/711/49/86/14/2/1006/334/598/82...  \n",
       "1  92/93/35/1/232/305/1194/224/192/1135/967/183/1...  \n",
       "2  312/665/2270/2270/573/305/39/312/1002/135/192/...  \n",
       "3  732/732/606/1511/1511/128/587/179/1051/662/102...  \n",
       "4  324/248/225/217/68/200/493/1511/1511/5/1642/51...  "
      ]
     },
     "execution_count": 6,
     "metadata": {},
     "output_type": "execute_result"
    }
   ],
   "source": [
    "question_user_info.head()"
   ]
  },
  {
   "cell_type": "code",
   "execution_count": 7,
   "metadata": {
    "collapsed": false
   },
   "outputs": [],
   "source": [
    "name_to_split = ['qwid', 'qcid', 'uwid', 'ucid']"
   ]
  },
  {
   "cell_type": "code",
   "execution_count": 8,
   "metadata": {
    "collapsed": true
   },
   "outputs": [],
   "source": [
    "for name in name_to_split:\n",
    "    question_user_info[name] = question_user_info[name].str.split('/')"
   ]
  },
  {
   "cell_type": "code",
   "execution_count": 9,
   "metadata": {
    "collapsed": false
   },
   "outputs": [],
   "source": [
    "qwid_uwid = question_user_info.loc[:, ['qwid', 'uwid']]"
   ]
  },
  {
   "cell_type": "code",
   "execution_count": 10,
   "metadata": {
    "collapsed": false
   },
   "outputs": [],
   "source": [
    "qwid_uwid['qwid'] = qwid_uwid['qwid'].apply(set)"
   ]
  },
  {
   "cell_type": "code",
   "execution_count": 11,
   "metadata": {
    "collapsed": true
   },
   "outputs": [],
   "source": [
    "qwid_uwid['uwid'] = qwid_uwid['uwid'].apply(set)"
   ]
  },
  {
   "cell_type": "code",
   "execution_count": 12,
   "metadata": {
    "collapsed": false
   },
   "outputs": [
    {
     "data": {
      "text/html": [
       "<div>\n",
       "<table border=\"1\" class=\"dataframe\">\n",
       "  <thead>\n",
       "    <tr style=\"text-align: right;\">\n",
       "      <th></th>\n",
       "      <th>qwid</th>\n",
       "      <th>uwid</th>\n",
       "    </tr>\n",
       "  </thead>\n",
       "  <tbody>\n",
       "    <tr>\n",
       "      <th>0</th>\n",
       "      <td>{1087, 2622, 2620, 2621, 59, 2623, 18, 45, 263...</td>\n",
       "      <td>{14642, 6398, 4061, 19117, 3027, 27660, 410, 2...</td>\n",
       "    </tr>\n",
       "    <tr>\n",
       "      <th>1</th>\n",
       "      <td>{9600, 289, 0, 74, 276, 2368}</td>\n",
       "      <td>{580, 22, 16553, 2338, 54, 1330, 1472, 1492, 1...</td>\n",
       "    </tr>\n",
       "    <tr>\n",
       "      <th>2</th>\n",
       "      <td>{714, 502, 4531, 4532}</td>\n",
       "      <td>{1124, 2457, 2644, 1330, 13301, 1492, 29057, 2...</td>\n",
       "    </tr>\n",
       "    <tr>\n",
       "      <th>3</th>\n",
       "      <td>{3679, 3681, 3680, 3678, 123, 489}</td>\n",
       "      <td>{14462, 22475, 17157, 9438, 33239, 501}</td>\n",
       "    </tr>\n",
       "    <tr>\n",
       "      <th>4</th>\n",
       "      <td>{3394, 132, 10866, 7852, 7888, 10868, 10869, 1...</td>\n",
       "      <td>{1094, 5955, 5693, 14462, 12516, 3374, 14796, ...</td>\n",
       "    </tr>\n",
       "  </tbody>\n",
       "</table>\n",
       "</div>"
      ],
      "text/plain": [
       "                                                qwid  \\\n",
       "0  {1087, 2622, 2620, 2621, 59, 2623, 18, 45, 263...   \n",
       "1                      {9600, 289, 0, 74, 276, 2368}   \n",
       "2                             {714, 502, 4531, 4532}   \n",
       "3                 {3679, 3681, 3680, 3678, 123, 489}   \n",
       "4  {3394, 132, 10866, 7852, 7888, 10868, 10869, 1...   \n",
       "\n",
       "                                                uwid  \n",
       "0  {14642, 6398, 4061, 19117, 3027, 27660, 410, 2...  \n",
       "1  {580, 22, 16553, 2338, 54, 1330, 1472, 1492, 1...  \n",
       "2  {1124, 2457, 2644, 1330, 13301, 1492, 29057, 2...  \n",
       "3            {14462, 22475, 17157, 9438, 33239, 501}  \n",
       "4  {1094, 5955, 5693, 14462, 12516, 3374, 14796, ...  "
      ]
     },
     "execution_count": 12,
     "metadata": {},
     "output_type": "execute_result"
    }
   ],
   "source": [
    "qwid_uwid.head()"
   ]
  },
  {
   "cell_type": "code",
   "execution_count": 13,
   "metadata": {
    "collapsed": false
   },
   "outputs": [],
   "source": [
    "common_wid = qwid_uwid.apply(lambda row: row['qwid'].intersection(row['uwid']), axis = 1)"
   ]
  },
  {
   "cell_type": "code",
   "execution_count": 14,
   "metadata": {
    "collapsed": false
   },
   "outputs": [],
   "source": [
    "common_wid_len = common_wid.apply(len)"
   ]
  },
  {
   "cell_type": "code",
   "execution_count": null,
   "metadata": {
    "collapsed": true
   },
   "outputs": [],
   "source": []
  }
 ],
 "metadata": {
  "anaconda-cloud": {},
  "kernelspec": {
   "display_name": "Python [Root]",
   "language": "python",
   "name": "Python [Root]"
  },
  "language_info": {
   "codemirror_mode": {
    "name": "ipython",
    "version": 2
   },
   "file_extension": ".py",
   "mimetype": "text/x-python",
   "name": "python",
   "nbconvert_exporter": "python",
   "pygments_lexer": "ipython2",
   "version": "2.7.12"
  }
 },
 "nbformat": 4,
 "nbformat_minor": 0
}
