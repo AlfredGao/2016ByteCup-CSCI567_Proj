{
 "cells": [
  {
   "cell_type": "code",
   "execution_count": 1,
   "metadata": {
    "collapsed": true
   },
   "outputs": [],
   "source": [
    "import pandas as pd\n",
    "import numpy as np"
   ]
  },
  {
   "cell_type": "code",
   "execution_count": 2,
   "metadata": {
    "collapsed": true
   },
   "outputs": [],
   "source": [
    "unpredict_csv = pd.read_csv('unpredict_csv.csv', sep=',', names=['qid', 'uid', 'label'])"
   ]
  },
  {
   "cell_type": "code",
   "execution_count": 3,
   "metadata": {
    "collapsed": true
   },
   "outputs": [],
   "source": [
    "result = pd.read_csv('result_1104MF.csv', sep=',')"
   ]
  },
  {
   "cell_type": "code",
   "execution_count": 4,
   "metadata": {
    "collapsed": false
   },
   "outputs": [
    {
     "data": {
      "text/html": [
       "<div>\n",
       "<table border=\"1\" class=\"dataframe\">\n",
       "  <thead>\n",
       "    <tr style=\"text-align: right;\">\n",
       "      <th></th>\n",
       "      <th>qid</th>\n",
       "      <th>uid</th>\n",
       "      <th>label</th>\n",
       "    </tr>\n",
       "  </thead>\n",
       "  <tbody>\n",
       "    <tr>\n",
       "      <th>0</th>\n",
       "      <td>b06674d5f2135b4f296d25677a795f80</td>\n",
       "      <td>18ef078c925908094fa5302805a71cac</td>\n",
       "      <td>0.467610</td>\n",
       "    </tr>\n",
       "    <tr>\n",
       "      <th>1</th>\n",
       "      <td>76e176fafb7b912fce20dae5808c1692</td>\n",
       "      <td>f63e5dc51d33cebcc3f3156bca7caf05</td>\n",
       "      <td>0.042357</td>\n",
       "    </tr>\n",
       "    <tr>\n",
       "      <th>2</th>\n",
       "      <td>45b2e6cf298a44ccfc7217aef466c65d</td>\n",
       "      <td>16090798e6130d0d85ce120032673b8b</td>\n",
       "      <td>0.312736</td>\n",
       "    </tr>\n",
       "    <tr>\n",
       "      <th>3</th>\n",
       "      <td>f20d4c2bf14232f75c333b82bd18f145</td>\n",
       "      <td>bd50e31242e9819db5074411a89f0716</td>\n",
       "      <td>0.155055</td>\n",
       "    </tr>\n",
       "    <tr>\n",
       "      <th>4</th>\n",
       "      <td>109f6578872dcb79c52b41b78cac1cb9</td>\n",
       "      <td>e0ca1e9323dab52277c1e342aabd2f2b</td>\n",
       "      <td>0.260897</td>\n",
       "    </tr>\n",
       "  </tbody>\n",
       "</table>\n",
       "</div>"
      ],
      "text/plain": [
       "                                qid                               uid  \\\n",
       "0  b06674d5f2135b4f296d25677a795f80  18ef078c925908094fa5302805a71cac   \n",
       "1  76e176fafb7b912fce20dae5808c1692  f63e5dc51d33cebcc3f3156bca7caf05   \n",
       "2  45b2e6cf298a44ccfc7217aef466c65d  16090798e6130d0d85ce120032673b8b   \n",
       "3  f20d4c2bf14232f75c333b82bd18f145  bd50e31242e9819db5074411a89f0716   \n",
       "4  109f6578872dcb79c52b41b78cac1cb9  e0ca1e9323dab52277c1e342aabd2f2b   \n",
       "\n",
       "      label  \n",
       "0  0.467610  \n",
       "1  0.042357  \n",
       "2  0.312736  \n",
       "3  0.155055  \n",
       "4  0.260897  "
      ]
     },
     "execution_count": 4,
     "metadata": {},
     "output_type": "execute_result"
    }
   ],
   "source": [
    "unpredict_csv.head()"
   ]
  },
  {
   "cell_type": "code",
   "execution_count": 5,
   "metadata": {
    "collapsed": false
   },
   "outputs": [
    {
     "data": {
      "text/plain": [
       "930"
      ]
     },
     "execution_count": 5,
     "metadata": {},
     "output_type": "execute_result"
    }
   ],
   "source": [
    "len(unpredict_csv)"
   ]
  },
  {
   "cell_type": "code",
   "execution_count": 6,
   "metadata": {
    "collapsed": false
   },
   "outputs": [
    {
     "data": {
      "text/html": [
       "<div>\n",
       "<table border=\"1\" class=\"dataframe\">\n",
       "  <thead>\n",
       "    <tr style=\"text-align: right;\">\n",
       "      <th></th>\n",
       "      <th>qid</th>\n",
       "      <th>uid</th>\n",
       "      <th>label</th>\n",
       "    </tr>\n",
       "  </thead>\n",
       "  <tbody>\n",
       "    <tr>\n",
       "      <th>30461</th>\n",
       "      <td>f1e7b1411030aea6917f48f2beaf6569</td>\n",
       "      <td>50ae7a5442fdf557fa931d1fad7b3bba</td>\n",
       "      <td>0.174323</td>\n",
       "    </tr>\n",
       "    <tr>\n",
       "      <th>30462</th>\n",
       "      <td>94c3c9c4bd494941a83c84c3e14537dd</td>\n",
       "      <td>d5640f79490229b9db7b9b60c20afcc0</td>\n",
       "      <td>0.000000</td>\n",
       "    </tr>\n",
       "    <tr>\n",
       "      <th>30463</th>\n",
       "      <td>a28cbde2bc35cd3a508d5bfb1bfebe4b</td>\n",
       "      <td>1c62c1e3dac1c952002d1c96695c63d3</td>\n",
       "      <td>0.000000</td>\n",
       "    </tr>\n",
       "    <tr>\n",
       "      <th>30464</th>\n",
       "      <td>4eed6aab4dd5890f2f8a30af920c626e</td>\n",
       "      <td>ff345095a3560ac1bbd35a24044b4942</td>\n",
       "      <td>0.002012</td>\n",
       "    </tr>\n",
       "    <tr>\n",
       "      <th>30465</th>\n",
       "      <td>61f1d4c1662a294858c5975eeccd6f3d</td>\n",
       "      <td>09d7d4df36e7d177d8b40c234d5a9335</td>\n",
       "      <td>0.000000</td>\n",
       "    </tr>\n",
       "  </tbody>\n",
       "</table>\n",
       "</div>"
      ],
      "text/plain": [
       "                                    qid                               uid  \\\n",
       "30461  f1e7b1411030aea6917f48f2beaf6569  50ae7a5442fdf557fa931d1fad7b3bba   \n",
       "30462  94c3c9c4bd494941a83c84c3e14537dd  d5640f79490229b9db7b9b60c20afcc0   \n",
       "30463  a28cbde2bc35cd3a508d5bfb1bfebe4b  1c62c1e3dac1c952002d1c96695c63d3   \n",
       "30464  4eed6aab4dd5890f2f8a30af920c626e  ff345095a3560ac1bbd35a24044b4942   \n",
       "30465  61f1d4c1662a294858c5975eeccd6f3d  09d7d4df36e7d177d8b40c234d5a9335   \n",
       "\n",
       "          label  \n",
       "30461  0.174323  \n",
       "30462  0.000000  \n",
       "30463  0.000000  \n",
       "30464  0.002012  \n",
       "30465  0.000000  "
      ]
     },
     "execution_count": 6,
     "metadata": {},
     "output_type": "execute_result"
    }
   ],
   "source": [
    "result.tail()\n",
    "# len(result)"
   ]
  },
  {
   "cell_type": "code",
   "execution_count": 7,
   "metadata": {
    "collapsed": false
   },
   "outputs": [
    {
     "data": {
      "text/plain": [
       "10268"
      ]
     },
     "execution_count": 7,
     "metadata": {},
     "output_type": "execute_result"
    }
   ],
   "source": [
    "sum(result['label'] == 0)"
   ]
  },
  {
   "cell_type": "code",
   "execution_count": 8,
   "metadata": {
    "collapsed": false
   },
   "outputs": [],
   "source": [
    "final_result = result.merge(unpredict_csv, left_on=['qid', 'uid'], right_on=['qid', 'uid'], how='left')\n",
    "final_result = final_result.drop_duplicates(['qid', 'uid'], keep='first')"
   ]
  },
  {
   "cell_type": "code",
   "execution_count": 9,
   "metadata": {
    "collapsed": false
   },
   "outputs": [],
   "source": [
    "final_result = final_result.fillna(0)"
   ]
  },
  {
   "cell_type": "code",
   "execution_count": 10,
   "metadata": {
    "collapsed": false
   },
   "outputs": [
    {
     "data": {
      "text/html": [
       "<div>\n",
       "<table border=\"1\" class=\"dataframe\">\n",
       "  <thead>\n",
       "    <tr style=\"text-align: right;\">\n",
       "      <th></th>\n",
       "      <th>qid</th>\n",
       "      <th>uid</th>\n",
       "      <th>label</th>\n",
       "    </tr>\n",
       "  </thead>\n",
       "  <tbody>\n",
       "    <tr>\n",
       "      <th>0</th>\n",
       "      <td>726c3abc84a99da48e27c2d8f19c2bc8</td>\n",
       "      <td>e85d05b6796c351e6a83cfc85309b023</td>\n",
       "      <td>0.000000</td>\n",
       "    </tr>\n",
       "    <tr>\n",
       "      <th>1</th>\n",
       "      <td>3737dc50f0f4b1a3df77b96cbf9ce928</td>\n",
       "      <td>e13419f565027f9c64bdab889acd1cbe</td>\n",
       "      <td>0.000000</td>\n",
       "    </tr>\n",
       "    <tr>\n",
       "      <th>2</th>\n",
       "      <td>a2adc7a16a129c2326706238e186cd11</td>\n",
       "      <td>b19ebc32f3d1de37e12792edc149993f</td>\n",
       "      <td>0.230239</td>\n",
       "    </tr>\n",
       "    <tr>\n",
       "      <th>3</th>\n",
       "      <td>56fadfe2695e9ce7c1e50d5f0fa705fb</td>\n",
       "      <td>ac0efd36e6f6eca572f448d6020dce89</td>\n",
       "      <td>0.014774</td>\n",
       "    </tr>\n",
       "    <tr>\n",
       "      <th>4</th>\n",
       "      <td>cf06c69d63dcab40a6f0b35d594d42b7</td>\n",
       "      <td>6aa377580a87ab45bc40da0cf220e530</td>\n",
       "      <td>1.000000</td>\n",
       "    </tr>\n",
       "  </tbody>\n",
       "</table>\n",
       "</div>"
      ],
      "text/plain": [
       "                                qid                               uid  \\\n",
       "0  726c3abc84a99da48e27c2d8f19c2bc8  e85d05b6796c351e6a83cfc85309b023   \n",
       "1  3737dc50f0f4b1a3df77b96cbf9ce928  e13419f565027f9c64bdab889acd1cbe   \n",
       "2  a2adc7a16a129c2326706238e186cd11  b19ebc32f3d1de37e12792edc149993f   \n",
       "3  56fadfe2695e9ce7c1e50d5f0fa705fb  ac0efd36e6f6eca572f448d6020dce89   \n",
       "4  cf06c69d63dcab40a6f0b35d594d42b7  6aa377580a87ab45bc40da0cf220e530   \n",
       "\n",
       "      label  \n",
       "0  0.000000  \n",
       "1  0.000000  \n",
       "2  0.230239  \n",
       "3  0.014774  \n",
       "4  1.000000  "
      ]
     },
     "execution_count": 10,
     "metadata": {},
     "output_type": "execute_result"
    }
   ],
   "source": [
    "final_result['label'] = final_result['label_x'] + final_result['label_y']\n",
    "final_result = final_result.drop(['label_x', 'label_y'], axis=1)\n",
    "final_result.head()"
   ]
  },
  {
   "cell_type": "code",
   "execution_count": 13,
   "metadata": {
    "collapsed": false
   },
   "outputs": [
    {
     "data": {
      "text/html": [
       "<div>\n",
       "<table border=\"1\" class=\"dataframe\">\n",
       "  <thead>\n",
       "    <tr style=\"text-align: right;\">\n",
       "      <th></th>\n",
       "      <th>qid</th>\n",
       "      <th>uid</th>\n",
       "      <th>label</th>\n",
       "    </tr>\n",
       "  </thead>\n",
       "  <tbody>\n",
       "    <tr>\n",
       "      <th>30462</th>\n",
       "      <td>f1e7b1411030aea6917f48f2beaf6569</td>\n",
       "      <td>50ae7a5442fdf557fa931d1fad7b3bba</td>\n",
       "      <td>0.174323</td>\n",
       "    </tr>\n",
       "    <tr>\n",
       "      <th>30463</th>\n",
       "      <td>94c3c9c4bd494941a83c84c3e14537dd</td>\n",
       "      <td>d5640f79490229b9db7b9b60c20afcc0</td>\n",
       "      <td>0.000000</td>\n",
       "    </tr>\n",
       "    <tr>\n",
       "      <th>30464</th>\n",
       "      <td>a28cbde2bc35cd3a508d5bfb1bfebe4b</td>\n",
       "      <td>1c62c1e3dac1c952002d1c96695c63d3</td>\n",
       "      <td>0.000000</td>\n",
       "    </tr>\n",
       "    <tr>\n",
       "      <th>30465</th>\n",
       "      <td>4eed6aab4dd5890f2f8a30af920c626e</td>\n",
       "      <td>ff345095a3560ac1bbd35a24044b4942</td>\n",
       "      <td>0.002012</td>\n",
       "    </tr>\n",
       "    <tr>\n",
       "      <th>30466</th>\n",
       "      <td>61f1d4c1662a294858c5975eeccd6f3d</td>\n",
       "      <td>09d7d4df36e7d177d8b40c234d5a9335</td>\n",
       "      <td>0.000000</td>\n",
       "    </tr>\n",
       "  </tbody>\n",
       "</table>\n",
       "</div>"
      ],
      "text/plain": [
       "                                    qid                               uid  \\\n",
       "30462  f1e7b1411030aea6917f48f2beaf6569  50ae7a5442fdf557fa931d1fad7b3bba   \n",
       "30463  94c3c9c4bd494941a83c84c3e14537dd  d5640f79490229b9db7b9b60c20afcc0   \n",
       "30464  a28cbde2bc35cd3a508d5bfb1bfebe4b  1c62c1e3dac1c952002d1c96695c63d3   \n",
       "30465  4eed6aab4dd5890f2f8a30af920c626e  ff345095a3560ac1bbd35a24044b4942   \n",
       "30466  61f1d4c1662a294858c5975eeccd6f3d  09d7d4df36e7d177d8b40c234d5a9335   \n",
       "\n",
       "          label  \n",
       "30462  0.174323  \n",
       "30463  0.000000  \n",
       "30464  0.000000  \n",
       "30465  0.002012  \n",
       "30466  0.000000  "
      ]
     },
     "execution_count": 13,
     "metadata": {},
     "output_type": "execute_result"
    }
   ],
   "source": [
    "final_result.tail()"
   ]
  },
  {
   "cell_type": "code",
   "execution_count": 11,
   "metadata": {
    "collapsed": false
   },
   "outputs": [
    {
     "data": {
      "text/plain": [
       "(30466, 9339)"
      ]
     },
     "execution_count": 11,
     "metadata": {},
     "output_type": "execute_result"
    }
   ],
   "source": [
    "len(final_result), sum(final_result['label'] == 0)"
   ]
  },
  {
   "cell_type": "code",
   "execution_count": 12,
   "metadata": {
    "collapsed": false
   },
   "outputs": [],
   "source": [
    "final_result.to_csv('result_1104_xgb.csv', sep=',', index=False)"
   ]
  },
  {
   "cell_type": "code",
   "execution_count": null,
   "metadata": {
    "collapsed": true
   },
   "outputs": [],
   "source": []
  }
 ],
 "metadata": {
  "kernelspec": {
   "display_name": "Python [Root]",
   "language": "python",
   "name": "Python [Root]"
  },
  "language_info": {
   "codemirror_mode": {
    "name": "ipython",
    "version": 2
   },
   "file_extension": ".py",
   "mimetype": "text/x-python",
   "name": "python",
   "nbconvert_exporter": "python",
   "pygments_lexer": "ipython2",
   "version": "2.7.12"
  }
 },
 "nbformat": 4,
 "nbformat_minor": 0
}
