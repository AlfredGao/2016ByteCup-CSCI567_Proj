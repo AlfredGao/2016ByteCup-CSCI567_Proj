{
 "cells": [
  {
   "cell_type": "code",
   "execution_count": 1,
   "metadata": {
    "collapsed": true
   },
   "outputs": [],
   "source": [
    "import numpy as np\n",
    "import pandas as pd\n",
    "import seaborn as sb\n",
    "from copy import deepcopy"
   ]
  },
  {
   "cell_type": "code",
   "execution_count": 2,
   "metadata": {
    "collapsed": false
   },
   "outputs": [],
   "source": [
    "invited_info_train = pd.read_csv(\"./bytecup2016data/invited_info_train.txt\", sep='\\t', names=['qid', 'uid', 'label'])"
   ]
  },
  {
   "cell_type": "code",
   "execution_count": 3,
   "metadata": {
    "collapsed": false
   },
   "outputs": [
    {
     "data": {
      "text/html": [
       "<div>\n",
       "<table border=\"1\" class=\"dataframe\">\n",
       "  <thead>\n",
       "    <tr style=\"text-align: right;\">\n",
       "      <th></th>\n",
       "      <th>qid</th>\n",
       "      <th>uid</th>\n",
       "      <th>label</th>\n",
       "    </tr>\n",
       "  </thead>\n",
       "  <tbody>\n",
       "    <tr>\n",
       "      <th>0</th>\n",
       "      <td>1c525c9d44135bdc40ddd4b8d63738d8</td>\n",
       "      <td>e6a2ecac7f90d426103de95ba7f6d2b0</td>\n",
       "      <td>0</td>\n",
       "    </tr>\n",
       "    <tr>\n",
       "      <th>1</th>\n",
       "      <td>43c525e69431f916efcf8d09d99602ac</td>\n",
       "      <td>64e1c3152b0ad8ab1a3b6bbda5d2bbe8</td>\n",
       "      <td>1</td>\n",
       "    </tr>\n",
       "    <tr>\n",
       "      <th>2</th>\n",
       "      <td>e1a1009e93ea09bdd981029b592d89b8</td>\n",
       "      <td>405c2c59eb73d115b5d73d0d0cfc9c94</td>\n",
       "      <td>0</td>\n",
       "    </tr>\n",
       "    <tr>\n",
       "      <th>3</th>\n",
       "      <td>60f19c960a9300aabaf95ea49a9fe4c2</td>\n",
       "      <td>11ccc1bae27f606616070eca12441ffb</td>\n",
       "      <td>0</td>\n",
       "    </tr>\n",
       "    <tr>\n",
       "      <th>4</th>\n",
       "      <td>cb8f85a79be9cd9aae3af4a302b865a6</td>\n",
       "      <td>628b7aa38efb4c1ce999fe5cdf46a03e</td>\n",
       "      <td>0</td>\n",
       "    </tr>\n",
       "  </tbody>\n",
       "</table>\n",
       "</div>"
      ],
      "text/plain": [
       "                                qid                               uid  label\n",
       "0  1c525c9d44135bdc40ddd4b8d63738d8  e6a2ecac7f90d426103de95ba7f6d2b0      0\n",
       "1  43c525e69431f916efcf8d09d99602ac  64e1c3152b0ad8ab1a3b6bbda5d2bbe8      1\n",
       "2  e1a1009e93ea09bdd981029b592d89b8  405c2c59eb73d115b5d73d0d0cfc9c94      0\n",
       "3  60f19c960a9300aabaf95ea49a9fe4c2  11ccc1bae27f606616070eca12441ffb      0\n",
       "4  cb8f85a79be9cd9aae3af4a302b865a6  628b7aa38efb4c1ce999fe5cdf46a03e      0"
      ]
     },
     "execution_count": 3,
     "metadata": {},
     "output_type": "execute_result"
    }
   ],
   "source": [
    "invited_info_train.head()"
   ]
  },
  {
   "cell_type": "code",
   "execution_count": 4,
   "metadata": {
    "collapsed": false
   },
   "outputs": [],
   "source": [
    "invited_info_train_copy = deepcopy(invited_info_train)"
   ]
  },
  {
   "cell_type": "code",
   "execution_count": 5,
   "metadata": {
    "collapsed": false
   },
   "outputs": [],
   "source": [
    "invited_info_train_copy.loc[invited_info_train_copy.duplicated(['qid', 'uid'], keep=False), 'label'] = 1"
   ]
  },
  {
   "cell_type": "code",
   "execution_count": 6,
   "metadata": {
    "collapsed": false
   },
   "outputs": [],
   "source": [
    "invited_info_train_copy = invited_info_train_copy.drop_duplicates(['qid', 'uid'], keep='first')"
   ]
  },
  {
   "cell_type": "code",
   "execution_count": 7,
   "metadata": {
    "collapsed": false
   },
   "outputs": [
    {
     "data": {
      "text/html": [
       "<div>\n",
       "<table border=\"1\" class=\"dataframe\">\n",
       "  <thead>\n",
       "    <tr style=\"text-align: right;\">\n",
       "      <th></th>\n",
       "      <th>qid</th>\n",
       "      <th>uid</th>\n",
       "      <th>label</th>\n",
       "    </tr>\n",
       "  </thead>\n",
       "  <tbody>\n",
       "    <tr>\n",
       "      <th>0</th>\n",
       "      <td>1c525c9d44135bdc40ddd4b8d63738d8</td>\n",
       "      <td>e6a2ecac7f90d426103de95ba7f6d2b0</td>\n",
       "      <td>0</td>\n",
       "    </tr>\n",
       "    <tr>\n",
       "      <th>1</th>\n",
       "      <td>43c525e69431f916efcf8d09d99602ac</td>\n",
       "      <td>64e1c3152b0ad8ab1a3b6bbda5d2bbe8</td>\n",
       "      <td>1</td>\n",
       "    </tr>\n",
       "    <tr>\n",
       "      <th>2</th>\n",
       "      <td>e1a1009e93ea09bdd981029b592d89b8</td>\n",
       "      <td>405c2c59eb73d115b5d73d0d0cfc9c94</td>\n",
       "      <td>1</td>\n",
       "    </tr>\n",
       "    <tr>\n",
       "      <th>3</th>\n",
       "      <td>60f19c960a9300aabaf95ea49a9fe4c2</td>\n",
       "      <td>11ccc1bae27f606616070eca12441ffb</td>\n",
       "      <td>0</td>\n",
       "    </tr>\n",
       "    <tr>\n",
       "      <th>4</th>\n",
       "      <td>cb8f85a79be9cd9aae3af4a302b865a6</td>\n",
       "      <td>628b7aa38efb4c1ce999fe5cdf46a03e</td>\n",
       "      <td>0</td>\n",
       "    </tr>\n",
       "  </tbody>\n",
       "</table>\n",
       "</div>"
      ],
      "text/plain": [
       "                                qid                               uid  label\n",
       "0  1c525c9d44135bdc40ddd4b8d63738d8  e6a2ecac7f90d426103de95ba7f6d2b0      0\n",
       "1  43c525e69431f916efcf8d09d99602ac  64e1c3152b0ad8ab1a3b6bbda5d2bbe8      1\n",
       "2  e1a1009e93ea09bdd981029b592d89b8  405c2c59eb73d115b5d73d0d0cfc9c94      1\n",
       "3  60f19c960a9300aabaf95ea49a9fe4c2  11ccc1bae27f606616070eca12441ffb      0\n",
       "4  cb8f85a79be9cd9aae3af4a302b865a6  628b7aa38efb4c1ce999fe5cdf46a03e      0"
      ]
     },
     "execution_count": 7,
     "metadata": {},
     "output_type": "execute_result"
    }
   ],
   "source": [
    "invited_info_train_copy.head()"
   ]
  },
  {
   "cell_type": "code",
   "execution_count": 8,
   "metadata": {
    "collapsed": true
   },
   "outputs": [],
   "source": [
    "question_info = pd.read_csv(\"./bytecup2016data/question_info.txt\", sep='\\t', \n",
    "                            names=['qid', 'qtag', 'qwid', 'qcid', '#upvotes', '#ans', '#tqans'])"
   ]
  },
  {
   "cell_type": "code",
   "execution_count": 9,
   "metadata": {
    "collapsed": false
   },
   "outputs": [
    {
     "data": {
      "text/html": [
       "<div>\n",
       "<table border=\"1\" class=\"dataframe\">\n",
       "  <thead>\n",
       "    <tr style=\"text-align: right;\">\n",
       "      <th></th>\n",
       "      <th>qid</th>\n",
       "      <th>qtag</th>\n",
       "      <th>qwid</th>\n",
       "      <th>qcid</th>\n",
       "      <th>#upvotes</th>\n",
       "      <th>#ans</th>\n",
       "      <th>#tqans</th>\n",
       "    </tr>\n",
       "  </thead>\n",
       "  <tbody>\n",
       "    <tr>\n",
       "      <th>0</th>\n",
       "      <td>c1c0075239841777d5b01c40b38135d2</td>\n",
       "      <td>0</td>\n",
       "      <td>0/1/2/3/4/5/6/7</td>\n",
       "      <td>0/1/2/3/4/5/6/5/7/8/9/3/10</td>\n",
       "      <td>103</td>\n",
       "      <td>6</td>\n",
       "      <td>5</td>\n",
       "    </tr>\n",
       "    <tr>\n",
       "      <th>1</th>\n",
       "      <td>367edcb36424493a7cf80f70903a64cd</td>\n",
       "      <td>1</td>\n",
       "      <td>8/9/10/11/12</td>\n",
       "      <td>11/12/13/14/15/15/16/17/12</td>\n",
       "      <td>173</td>\n",
       "      <td>10</td>\n",
       "      <td>5</td>\n",
       "    </tr>\n",
       "    <tr>\n",
       "      <th>2</th>\n",
       "      <td>fb9e401d86f20205d97a25f3aad76a67</td>\n",
       "      <td>2</td>\n",
       "      <td>13/14/15/16/17</td>\n",
       "      <td>18/19/20/21/22/23/24/25</td>\n",
       "      <td>221</td>\n",
       "      <td>5</td>\n",
       "      <td>5</td>\n",
       "    </tr>\n",
       "    <tr>\n",
       "      <th>3</th>\n",
       "      <td>e153659c6c654cd12122232fca89f4bc</td>\n",
       "      <td>3</td>\n",
       "      <td>18/19/20/21/22/23/24/21/25</td>\n",
       "      <td>26/27/28/29/30/31/32/33/34/35/36/37/38/39/33/3...</td>\n",
       "      <td>164</td>\n",
       "      <td>11</td>\n",
       "      <td>8</td>\n",
       "    </tr>\n",
       "    <tr>\n",
       "      <th>4</th>\n",
       "      <td>c1718491292fd44b9b33397d5e6a80ba</td>\n",
       "      <td>1</td>\n",
       "      <td>26/27/28/29/30/31/32/33/34/35/15</td>\n",
       "      <td>5/42/43/15/44/45/46/47/48/26/49/50/51/52/49/53...</td>\n",
       "      <td>67</td>\n",
       "      <td>3</td>\n",
       "      <td>3</td>\n",
       "    </tr>\n",
       "  </tbody>\n",
       "</table>\n",
       "</div>"
      ],
      "text/plain": [
       "                                qid  qtag                              qwid  \\\n",
       "0  c1c0075239841777d5b01c40b38135d2     0                   0/1/2/3/4/5/6/7   \n",
       "1  367edcb36424493a7cf80f70903a64cd     1                      8/9/10/11/12   \n",
       "2  fb9e401d86f20205d97a25f3aad76a67     2                    13/14/15/16/17   \n",
       "3  e153659c6c654cd12122232fca89f4bc     3        18/19/20/21/22/23/24/21/25   \n",
       "4  c1718491292fd44b9b33397d5e6a80ba     1  26/27/28/29/30/31/32/33/34/35/15   \n",
       "\n",
       "                                                qcid  #upvotes  #ans  #tqans  \n",
       "0                         0/1/2/3/4/5/6/5/7/8/9/3/10       103     6       5  \n",
       "1                         11/12/13/14/15/15/16/17/12       173    10       5  \n",
       "2                            18/19/20/21/22/23/24/25       221     5       5  \n",
       "3  26/27/28/29/30/31/32/33/34/35/36/37/38/39/33/3...       164    11       8  \n",
       "4  5/42/43/15/44/45/46/47/48/26/49/50/51/52/49/53...        67     3       3  "
      ]
     },
     "execution_count": 9,
     "metadata": {},
     "output_type": "execute_result"
    }
   ],
   "source": [
    "question_info.head()"
   ]
  },
  {
   "cell_type": "code",
   "execution_count": 10,
   "metadata": {
    "collapsed": true
   },
   "outputs": [],
   "source": [
    "question_info_copy = deepcopy(question_info)"
   ]
  },
  {
   "cell_type": "code",
   "execution_count": 11,
   "metadata": {
    "collapsed": false
   },
   "outputs": [],
   "source": [
    "qtag_unique = question_info_copy['qtag'].unique()\n",
    "for i in range(len(qtag_unique)):\n",
    "    question_info_copy['qtag_{}'.format(i)] = (question_info_copy['qtag'] == i).astype(int)"
   ]
  },
  {
   "cell_type": "code",
   "execution_count": 12,
   "metadata": {
    "collapsed": false
   },
   "outputs": [],
   "source": [
    "question_info_copy = question_info_copy.drop(['qtag'], axis=1)"
   ]
  },
  {
   "cell_type": "code",
   "execution_count": 13,
   "metadata": {
    "collapsed": false
   },
   "outputs": [
    {
     "data": {
      "text/html": [
       "<div>\n",
       "<table border=\"1\" class=\"dataframe\">\n",
       "  <thead>\n",
       "    <tr style=\"text-align: right;\">\n",
       "      <th></th>\n",
       "      <th>qid</th>\n",
       "      <th>qwid</th>\n",
       "      <th>qcid</th>\n",
       "      <th>#upvotes</th>\n",
       "      <th>#ans</th>\n",
       "      <th>#tqans</th>\n",
       "      <th>qtag_0</th>\n",
       "      <th>qtag_1</th>\n",
       "      <th>qtag_2</th>\n",
       "      <th>qtag_3</th>\n",
       "      <th>...</th>\n",
       "      <th>qtag_10</th>\n",
       "      <th>qtag_11</th>\n",
       "      <th>qtag_12</th>\n",
       "      <th>qtag_13</th>\n",
       "      <th>qtag_14</th>\n",
       "      <th>qtag_15</th>\n",
       "      <th>qtag_16</th>\n",
       "      <th>qtag_17</th>\n",
       "      <th>qtag_18</th>\n",
       "      <th>qtag_19</th>\n",
       "    </tr>\n",
       "  </thead>\n",
       "  <tbody>\n",
       "    <tr>\n",
       "      <th>0</th>\n",
       "      <td>c1c0075239841777d5b01c40b38135d2</td>\n",
       "      <td>0/1/2/3/4/5/6/7</td>\n",
       "      <td>0/1/2/3/4/5/6/5/7/8/9/3/10</td>\n",
       "      <td>103</td>\n",
       "      <td>6</td>\n",
       "      <td>5</td>\n",
       "      <td>1</td>\n",
       "      <td>0</td>\n",
       "      <td>0</td>\n",
       "      <td>0</td>\n",
       "      <td>...</td>\n",
       "      <td>0</td>\n",
       "      <td>0</td>\n",
       "      <td>0</td>\n",
       "      <td>0</td>\n",
       "      <td>0</td>\n",
       "      <td>0</td>\n",
       "      <td>0</td>\n",
       "      <td>0</td>\n",
       "      <td>0</td>\n",
       "      <td>0</td>\n",
       "    </tr>\n",
       "    <tr>\n",
       "      <th>1</th>\n",
       "      <td>367edcb36424493a7cf80f70903a64cd</td>\n",
       "      <td>8/9/10/11/12</td>\n",
       "      <td>11/12/13/14/15/15/16/17/12</td>\n",
       "      <td>173</td>\n",
       "      <td>10</td>\n",
       "      <td>5</td>\n",
       "      <td>0</td>\n",
       "      <td>1</td>\n",
       "      <td>0</td>\n",
       "      <td>0</td>\n",
       "      <td>...</td>\n",
       "      <td>0</td>\n",
       "      <td>0</td>\n",
       "      <td>0</td>\n",
       "      <td>0</td>\n",
       "      <td>0</td>\n",
       "      <td>0</td>\n",
       "      <td>0</td>\n",
       "      <td>0</td>\n",
       "      <td>0</td>\n",
       "      <td>0</td>\n",
       "    </tr>\n",
       "    <tr>\n",
       "      <th>2</th>\n",
       "      <td>fb9e401d86f20205d97a25f3aad76a67</td>\n",
       "      <td>13/14/15/16/17</td>\n",
       "      <td>18/19/20/21/22/23/24/25</td>\n",
       "      <td>221</td>\n",
       "      <td>5</td>\n",
       "      <td>5</td>\n",
       "      <td>0</td>\n",
       "      <td>0</td>\n",
       "      <td>1</td>\n",
       "      <td>0</td>\n",
       "      <td>...</td>\n",
       "      <td>0</td>\n",
       "      <td>0</td>\n",
       "      <td>0</td>\n",
       "      <td>0</td>\n",
       "      <td>0</td>\n",
       "      <td>0</td>\n",
       "      <td>0</td>\n",
       "      <td>0</td>\n",
       "      <td>0</td>\n",
       "      <td>0</td>\n",
       "    </tr>\n",
       "    <tr>\n",
       "      <th>3</th>\n",
       "      <td>e153659c6c654cd12122232fca89f4bc</td>\n",
       "      <td>18/19/20/21/22/23/24/21/25</td>\n",
       "      <td>26/27/28/29/30/31/32/33/34/35/36/37/38/39/33/3...</td>\n",
       "      <td>164</td>\n",
       "      <td>11</td>\n",
       "      <td>8</td>\n",
       "      <td>0</td>\n",
       "      <td>0</td>\n",
       "      <td>0</td>\n",
       "      <td>1</td>\n",
       "      <td>...</td>\n",
       "      <td>0</td>\n",
       "      <td>0</td>\n",
       "      <td>0</td>\n",
       "      <td>0</td>\n",
       "      <td>0</td>\n",
       "      <td>0</td>\n",
       "      <td>0</td>\n",
       "      <td>0</td>\n",
       "      <td>0</td>\n",
       "      <td>0</td>\n",
       "    </tr>\n",
       "    <tr>\n",
       "      <th>4</th>\n",
       "      <td>c1718491292fd44b9b33397d5e6a80ba</td>\n",
       "      <td>26/27/28/29/30/31/32/33/34/35/15</td>\n",
       "      <td>5/42/43/15/44/45/46/47/48/26/49/50/51/52/49/53...</td>\n",
       "      <td>67</td>\n",
       "      <td>3</td>\n",
       "      <td>3</td>\n",
       "      <td>0</td>\n",
       "      <td>1</td>\n",
       "      <td>0</td>\n",
       "      <td>0</td>\n",
       "      <td>...</td>\n",
       "      <td>0</td>\n",
       "      <td>0</td>\n",
       "      <td>0</td>\n",
       "      <td>0</td>\n",
       "      <td>0</td>\n",
       "      <td>0</td>\n",
       "      <td>0</td>\n",
       "      <td>0</td>\n",
       "      <td>0</td>\n",
       "      <td>0</td>\n",
       "    </tr>\n",
       "  </tbody>\n",
       "</table>\n",
       "<p>5 rows × 26 columns</p>\n",
       "</div>"
      ],
      "text/plain": [
       "                                qid                              qwid  \\\n",
       "0  c1c0075239841777d5b01c40b38135d2                   0/1/2/3/4/5/6/7   \n",
       "1  367edcb36424493a7cf80f70903a64cd                      8/9/10/11/12   \n",
       "2  fb9e401d86f20205d97a25f3aad76a67                    13/14/15/16/17   \n",
       "3  e153659c6c654cd12122232fca89f4bc        18/19/20/21/22/23/24/21/25   \n",
       "4  c1718491292fd44b9b33397d5e6a80ba  26/27/28/29/30/31/32/33/34/35/15   \n",
       "\n",
       "                                                qcid  #upvotes  #ans  #tqans  \\\n",
       "0                         0/1/2/3/4/5/6/5/7/8/9/3/10       103     6       5   \n",
       "1                         11/12/13/14/15/15/16/17/12       173    10       5   \n",
       "2                            18/19/20/21/22/23/24/25       221     5       5   \n",
       "3  26/27/28/29/30/31/32/33/34/35/36/37/38/39/33/3...       164    11       8   \n",
       "4  5/42/43/15/44/45/46/47/48/26/49/50/51/52/49/53...        67     3       3   \n",
       "\n",
       "   qtag_0  qtag_1  qtag_2  qtag_3   ...     qtag_10  qtag_11  qtag_12  \\\n",
       "0       1       0       0       0   ...           0        0        0   \n",
       "1       0       1       0       0   ...           0        0        0   \n",
       "2       0       0       1       0   ...           0        0        0   \n",
       "3       0       0       0       1   ...           0        0        0   \n",
       "4       0       1       0       0   ...           0        0        0   \n",
       "\n",
       "   qtag_13  qtag_14  qtag_15  qtag_16  qtag_17  qtag_18  qtag_19  \n",
       "0        0        0        0        0        0        0        0  \n",
       "1        0        0        0        0        0        0        0  \n",
       "2        0        0        0        0        0        0        0  \n",
       "3        0        0        0        0        0        0        0  \n",
       "4        0        0        0        0        0        0        0  \n",
       "\n",
       "[5 rows x 26 columns]"
      ]
     },
     "execution_count": 13,
     "metadata": {},
     "output_type": "execute_result"
    }
   ],
   "source": [
    "question_info_copy.head()"
   ]
  },
  {
   "cell_type": "code",
   "execution_count": 14,
   "metadata": {
    "collapsed": false
   },
   "outputs": [],
   "source": [
    "wid_new_id = np.arange(len(question_info_copy['qwid'].unique()))"
   ]
  },
  {
   "cell_type": "code",
   "execution_count": 15,
   "metadata": {
    "collapsed": false
   },
   "outputs": [],
   "source": [
    "np.random.shuffle(wid_new_id)"
   ]
  },
  {
   "cell_type": "code",
   "execution_count": 16,
   "metadata": {
    "collapsed": true
   },
   "outputs": [],
   "source": [
    "cid_new_id = np.arange(len(question_info_copy['qcid'].unique()))"
   ]
  },
  {
   "cell_type": "code",
   "execution_count": 17,
   "metadata": {
    "collapsed": false
   },
   "outputs": [],
   "source": [
    "np.random.shuffle(cid_new_id)"
   ]
  },
  {
   "cell_type": "code",
   "execution_count": 18,
   "metadata": {
    "collapsed": false
   },
   "outputs": [],
   "source": [
    "def replace_id(new_id_list, values):\n",
    "    values = deepcopy(values)\n",
    "    output_dict = {}\n",
    "    uniq_values = values.unique()\n",
    "    for i in range(len(new_id_list)):\n",
    "        output_dict[uniq_values[i]] = new_id_list[i]\n",
    "    for i in range(len(values)):\n",
    "        values[i] = output_dict[values[i]]\n",
    "    return values"
   ]
  },
  {
   "cell_type": "code",
   "execution_count": 19,
   "metadata": {
    "collapsed": false
   },
   "outputs": [],
   "source": [
    "question_info_copy['qwid'] = replace_id(wid_new_id, question_info_copy['qwid'])"
   ]
  },
  {
   "cell_type": "code",
   "execution_count": 20,
   "metadata": {
    "collapsed": false
   },
   "outputs": [],
   "source": [
    "question_info_copy['qcid'] = replace_id(cid_new_id, question_info_copy['qcid'])"
   ]
  },
  {
   "cell_type": "code",
   "execution_count": 21,
   "metadata": {
    "collapsed": false
   },
   "outputs": [],
   "source": [
    "def normal_col(column):\n",
    "    mean = column.mean()\n",
    "    std = column.std()\n",
    "    column = (column - mean) / std\n",
    "    return column"
   ]
  },
  {
   "cell_type": "code",
   "execution_count": 22,
   "metadata": {
    "collapsed": true
   },
   "outputs": [],
   "source": [
    "question_info_copy['qwid'] = normal_col(question_info_copy['qwid'])"
   ]
  },
  {
   "cell_type": "code",
   "execution_count": 23,
   "metadata": {
    "collapsed": false
   },
   "outputs": [],
   "source": [
    "question_info_copy['qcid'] = normal_col(question_info_copy['qcid'])"
   ]
  },
  {
   "cell_type": "code",
   "execution_count": 24,
   "metadata": {
    "collapsed": true
   },
   "outputs": [],
   "source": [
    "question_info_copy['#upvotes/#ans'] = question_info_copy['#upvotes'] / question_info_copy['#ans']"
   ]
  },
  {
   "cell_type": "code",
   "execution_count": 25,
   "metadata": {
    "collapsed": false
   },
   "outputs": [],
   "source": [
    "question_info_copy['#tqans/#ans'] = question_info_copy['#tqans'] / question_info_copy['#ans']"
   ]
  },
  {
   "cell_type": "code",
   "execution_count": 26,
   "metadata": {
    "collapsed": false
   },
   "outputs": [],
   "source": [
    "question_info_copy.loc[question_info_copy['#ans'] == 0, '#upvotes/#ans'] = 0.0"
   ]
  },
  {
   "cell_type": "code",
   "execution_count": 27,
   "metadata": {
    "collapsed": true
   },
   "outputs": [],
   "source": [
    "question_info_copy.loc[question_info_copy['#ans'] == 0, '#tqans/#ans'] = 0.0"
   ]
  },
  {
   "cell_type": "code",
   "execution_count": 28,
   "metadata": {
    "collapsed": false
   },
   "outputs": [],
   "source": [
    "question_info_copy['#upvotes'] = normal_col(question_info_copy['#upvotes'])\n",
    "question_info_copy['#ans'] = normal_col(question_info_copy['#ans'])\n",
    "question_info_copy['#tqans'] = normal_col(question_info_copy['#tqans'])\n",
    "question_info_copy['#upvotes/#ans'] = normal_col(question_info_copy['#upvotes/#ans'])\n",
    "question_info_copy['#tqans/#ans'] = normal_col(question_info_copy['#tqans/#ans'])"
   ]
  },
  {
   "cell_type": "code",
   "execution_count": 29,
   "metadata": {
    "collapsed": false
   },
   "outputs": [
    {
     "data": {
      "text/html": [
       "<div>\n",
       "<table border=\"1\" class=\"dataframe\">\n",
       "  <thead>\n",
       "    <tr style=\"text-align: right;\">\n",
       "      <th></th>\n",
       "      <th>qid</th>\n",
       "      <th>qwid</th>\n",
       "      <th>qcid</th>\n",
       "      <th>#upvotes</th>\n",
       "      <th>#ans</th>\n",
       "      <th>#tqans</th>\n",
       "      <th>qtag_0</th>\n",
       "      <th>qtag_1</th>\n",
       "      <th>qtag_2</th>\n",
       "      <th>qtag_3</th>\n",
       "      <th>...</th>\n",
       "      <th>qtag_12</th>\n",
       "      <th>qtag_13</th>\n",
       "      <th>qtag_14</th>\n",
       "      <th>qtag_15</th>\n",
       "      <th>qtag_16</th>\n",
       "      <th>qtag_17</th>\n",
       "      <th>qtag_18</th>\n",
       "      <th>qtag_19</th>\n",
       "      <th>#upvotes/#ans</th>\n",
       "      <th>#tqans/#ans</th>\n",
       "    </tr>\n",
       "  </thead>\n",
       "  <tbody>\n",
       "    <tr>\n",
       "      <th>0</th>\n",
       "      <td>c1c0075239841777d5b01c40b38135d2</td>\n",
       "      <td>-0.692173</td>\n",
       "      <td>-1.29723</td>\n",
       "      <td>-0.173259</td>\n",
       "      <td>-0.182466</td>\n",
       "      <td>-0.156707</td>\n",
       "      <td>1</td>\n",
       "      <td>0</td>\n",
       "      <td>0</td>\n",
       "      <td>0</td>\n",
       "      <td>...</td>\n",
       "      <td>0</td>\n",
       "      <td>0</td>\n",
       "      <td>0</td>\n",
       "      <td>0</td>\n",
       "      <td>0</td>\n",
       "      <td>0</td>\n",
       "      <td>0</td>\n",
       "      <td>0</td>\n",
       "      <td>-0.147217</td>\n",
       "      <td>1.025146</td>\n",
       "    </tr>\n",
       "    <tr>\n",
       "      <th>1</th>\n",
       "      <td>367edcb36424493a7cf80f70903a64cd</td>\n",
       "      <td>-1.17229</td>\n",
       "      <td>1.02642</td>\n",
       "      <td>-0.159306</td>\n",
       "      <td>-0.161481</td>\n",
       "      <td>-0.156707</td>\n",
       "      <td>0</td>\n",
       "      <td>1</td>\n",
       "      <td>0</td>\n",
       "      <td>0</td>\n",
       "      <td>...</td>\n",
       "      <td>0</td>\n",
       "      <td>0</td>\n",
       "      <td>0</td>\n",
       "      <td>0</td>\n",
       "      <td>0</td>\n",
       "      <td>0</td>\n",
       "      <td>0</td>\n",
       "      <td>0</td>\n",
       "      <td>-0.146028</td>\n",
       "      <td>-0.099821</td>\n",
       "    </tr>\n",
       "    <tr>\n",
       "      <th>2</th>\n",
       "      <td>fb9e401d86f20205d97a25f3aad76a67</td>\n",
       "      <td>0.865112</td>\n",
       "      <td>0.0703283</td>\n",
       "      <td>-0.149737</td>\n",
       "      <td>-0.187712</td>\n",
       "      <td>-0.156707</td>\n",
       "      <td>0</td>\n",
       "      <td>0</td>\n",
       "      <td>1</td>\n",
       "      <td>0</td>\n",
       "      <td>...</td>\n",
       "      <td>0</td>\n",
       "      <td>0</td>\n",
       "      <td>0</td>\n",
       "      <td>0</td>\n",
       "      <td>0</td>\n",
       "      <td>0</td>\n",
       "      <td>0</td>\n",
       "      <td>0</td>\n",
       "      <td>0.093909</td>\n",
       "      <td>1.587629</td>\n",
       "    </tr>\n",
       "    <tr>\n",
       "      <th>3</th>\n",
       "      <td>e153659c6c654cd12122232fca89f4bc</td>\n",
       "      <td>-1.29736</td>\n",
       "      <td>0.994309</td>\n",
       "      <td>-0.161100</td>\n",
       "      <td>-0.156235</td>\n",
       "      <td>-0.054979</td>\n",
       "      <td>0</td>\n",
       "      <td>0</td>\n",
       "      <td>0</td>\n",
       "      <td>1</td>\n",
       "      <td>...</td>\n",
       "      <td>0</td>\n",
       "      <td>0</td>\n",
       "      <td>0</td>\n",
       "      <td>0</td>\n",
       "      <td>0</td>\n",
       "      <td>0</td>\n",
       "      <td>0</td>\n",
       "      <td>0</td>\n",
       "      <td>-0.167354</td>\n",
       "      <td>0.667202</td>\n",
       "    </tr>\n",
       "    <tr>\n",
       "      <th>4</th>\n",
       "      <td>c1718491292fd44b9b33397d5e6a80ba</td>\n",
       "      <td>0.990175</td>\n",
       "      <td>1.43018</td>\n",
       "      <td>-0.180435</td>\n",
       "      <td>-0.198204</td>\n",
       "      <td>-0.224525</td>\n",
       "      <td>0</td>\n",
       "      <td>1</td>\n",
       "      <td>0</td>\n",
       "      <td>0</td>\n",
       "      <td>...</td>\n",
       "      <td>0</td>\n",
       "      <td>0</td>\n",
       "      <td>0</td>\n",
       "      <td>0</td>\n",
       "      <td>0</td>\n",
       "      <td>0</td>\n",
       "      <td>0</td>\n",
       "      <td>0</td>\n",
       "      <td>-0.101133</td>\n",
       "      <td>1.587629</td>\n",
       "    </tr>\n",
       "  </tbody>\n",
       "</table>\n",
       "<p>5 rows × 28 columns</p>\n",
       "</div>"
      ],
      "text/plain": [
       "                                qid      qwid       qcid  #upvotes      #ans  \\\n",
       "0  c1c0075239841777d5b01c40b38135d2 -0.692173   -1.29723 -0.173259 -0.182466   \n",
       "1  367edcb36424493a7cf80f70903a64cd  -1.17229    1.02642 -0.159306 -0.161481   \n",
       "2  fb9e401d86f20205d97a25f3aad76a67  0.865112  0.0703283 -0.149737 -0.187712   \n",
       "3  e153659c6c654cd12122232fca89f4bc  -1.29736   0.994309 -0.161100 -0.156235   \n",
       "4  c1718491292fd44b9b33397d5e6a80ba  0.990175    1.43018 -0.180435 -0.198204   \n",
       "\n",
       "     #tqans  qtag_0  qtag_1  qtag_2  qtag_3     ...       qtag_12  qtag_13  \\\n",
       "0 -0.156707       1       0       0       0     ...             0        0   \n",
       "1 -0.156707       0       1       0       0     ...             0        0   \n",
       "2 -0.156707       0       0       1       0     ...             0        0   \n",
       "3 -0.054979       0       0       0       1     ...             0        0   \n",
       "4 -0.224525       0       1       0       0     ...             0        0   \n",
       "\n",
       "   qtag_14  qtag_15  qtag_16  qtag_17  qtag_18  qtag_19  #upvotes/#ans  \\\n",
       "0        0        0        0        0        0        0      -0.147217   \n",
       "1        0        0        0        0        0        0      -0.146028   \n",
       "2        0        0        0        0        0        0       0.093909   \n",
       "3        0        0        0        0        0        0      -0.167354   \n",
       "4        0        0        0        0        0        0      -0.101133   \n",
       "\n",
       "   #tqans/#ans  \n",
       "0     1.025146  \n",
       "1    -0.099821  \n",
       "2     1.587629  \n",
       "3     0.667202  \n",
       "4     1.587629  \n",
       "\n",
       "[5 rows x 28 columns]"
      ]
     },
     "execution_count": 29,
     "metadata": {},
     "output_type": "execute_result"
    }
   ],
   "source": [
    "question_info_copy.head()"
   ]
  },
  {
   "cell_type": "code",
   "execution_count": 30,
   "metadata": {
    "collapsed": false
   },
   "outputs": [],
   "source": [
    "user_info = pd.read_csv(\"./bytecup2016data/user_info.txt\", sep=\"\\t\", \n",
    "                        names=['uid', 'utag', 'uwid', 'ucid'])"
   ]
  },
  {
   "cell_type": "code",
   "execution_count": 31,
   "metadata": {
    "collapsed": false
   },
   "outputs": [
    {
     "data": {
      "text/html": [
       "<div>\n",
       "<table border=\"1\" class=\"dataframe\">\n",
       "  <thead>\n",
       "    <tr style=\"text-align: right;\">\n",
       "      <th></th>\n",
       "      <th>uid</th>\n",
       "      <th>utag</th>\n",
       "      <th>uwid</th>\n",
       "      <th>ucid</th>\n",
       "    </tr>\n",
       "  </thead>\n",
       "  <tbody>\n",
       "    <tr>\n",
       "      <th>0</th>\n",
       "      <td>61fa06d8908d0e4710a599f970f0ab5a</td>\n",
       "      <td>0/1</td>\n",
       "      <td>2327/1083/1083/344/3584/1634</td>\n",
       "      <td>608/182/441/182/441/441/442/263/158/141/878</td>\n",
       "    </tr>\n",
       "    <tr>\n",
       "      <th>1</th>\n",
       "      <td>4588a1df2461674252ff01c63b59171a</td>\n",
       "      <td>2/3/4/5/6</td>\n",
       "      <td>54/11880/113/13231/13232/113/8864/444/7404</td>\n",
       "      <td>92/93/160/160/183/1022/1022/183/732/732/183/14...</td>\n",
       "    </tr>\n",
       "    <tr>\n",
       "      <th>2</th>\n",
       "      <td>e8a0f6906978da77dab3d1d779bf2904</td>\n",
       "      <td>7</td>\n",
       "      <td>45/13233/1871/13234/2182/3754/444/2644</td>\n",
       "      <td>73/953/15/291/182/168/438/1474/107/377/11/1002...</td>\n",
       "    </tr>\n",
       "    <tr>\n",
       "      <th>3</th>\n",
       "      <td>ab01652daaa15bcbbb21b7c02a8f3646</td>\n",
       "      <td>8</td>\n",
       "      <td>76/13235/2149/13236</td>\n",
       "      <td>122/129/1571/1837/749/68/300/1481/354</td>\n",
       "    </tr>\n",
       "    <tr>\n",
       "      <th>4</th>\n",
       "      <td>4c3694faef04ea6cce28d9d838fc3dda</td>\n",
       "      <td>9/10/11/12</td>\n",
       "      <td>9465/1492/1734/13237</td>\n",
       "      <td>93/1289/232/305/646/345</td>\n",
       "    </tr>\n",
       "  </tbody>\n",
       "</table>\n",
       "</div>"
      ],
      "text/plain": [
       "                                uid        utag  \\\n",
       "0  61fa06d8908d0e4710a599f970f0ab5a         0/1   \n",
       "1  4588a1df2461674252ff01c63b59171a   2/3/4/5/6   \n",
       "2  e8a0f6906978da77dab3d1d779bf2904           7   \n",
       "3  ab01652daaa15bcbbb21b7c02a8f3646           8   \n",
       "4  4c3694faef04ea6cce28d9d838fc3dda  9/10/11/12   \n",
       "\n",
       "                                         uwid  \\\n",
       "0                2327/1083/1083/344/3584/1634   \n",
       "1  54/11880/113/13231/13232/113/8864/444/7404   \n",
       "2      45/13233/1871/13234/2182/3754/444/2644   \n",
       "3                         76/13235/2149/13236   \n",
       "4                        9465/1492/1734/13237   \n",
       "\n",
       "                                                ucid  \n",
       "0        608/182/441/182/441/441/442/263/158/141/878  \n",
       "1  92/93/160/160/183/1022/1022/183/732/732/183/14...  \n",
       "2  73/953/15/291/182/168/438/1474/107/377/11/1002...  \n",
       "3              122/129/1571/1837/749/68/300/1481/354  \n",
       "4                            93/1289/232/305/646/345  "
      ]
     },
     "execution_count": 31,
     "metadata": {},
     "output_type": "execute_result"
    }
   ],
   "source": [
    "user_info.head()"
   ]
  },
  {
   "cell_type": "code",
   "execution_count": 32,
   "metadata": {
    "collapsed": true
   },
   "outputs": [],
   "source": [
    "user_info_copy = deepcopy(user_info)"
   ]
  },
  {
   "cell_type": "code",
   "execution_count": 33,
   "metadata": {
    "collapsed": true
   },
   "outputs": [],
   "source": [
    "uwid_new_id = np.arange(len(user_info_copy['uwid'].unique()))\n",
    "np.random.shuffle(uwid_new_id)"
   ]
  },
  {
   "cell_type": "code",
   "execution_count": 34,
   "metadata": {
    "collapsed": true
   },
   "outputs": [],
   "source": [
    "ucid_new_id = np.arange(len(user_info_copy['ucid'].unique()))\n",
    "np.random.shuffle(ucid_new_id)"
   ]
  },
  {
   "cell_type": "code",
   "execution_count": 35,
   "metadata": {
    "collapsed": true
   },
   "outputs": [],
   "source": [
    "user_info_copy['uwid'] = replace_id(uwid_new_id, user_info_copy['uwid'])"
   ]
  },
  {
   "cell_type": "code",
   "execution_count": 36,
   "metadata": {
    "collapsed": true
   },
   "outputs": [],
   "source": [
    "user_info_copy['ucid'] = replace_id(ucid_new_id, user_info_copy['ucid'])"
   ]
  },
  {
   "cell_type": "code",
   "execution_count": 37,
   "metadata": {
    "collapsed": false
   },
   "outputs": [],
   "source": [
    "for i in range(len(user_info_copy['utag'])):\n",
    "    user_info_copy['utag'][i] = map(int, user_info_copy['utag'][i].split('/'))"
   ]
  },
  {
   "cell_type": "code",
   "execution_count": 38,
   "metadata": {
    "collapsed": false
   },
   "outputs": [
    {
     "data": {
      "text/html": [
       "<div>\n",
       "<table border=\"1\" class=\"dataframe\">\n",
       "  <thead>\n",
       "    <tr style=\"text-align: right;\">\n",
       "      <th></th>\n",
       "      <th>uid</th>\n",
       "      <th>utag</th>\n",
       "      <th>uwid</th>\n",
       "      <th>ucid</th>\n",
       "    </tr>\n",
       "  </thead>\n",
       "  <tbody>\n",
       "    <tr>\n",
       "      <th>0</th>\n",
       "      <td>61fa06d8908d0e4710a599f970f0ab5a</td>\n",
       "      <td>[0, 1]</td>\n",
       "      <td>12507</td>\n",
       "      <td>5545</td>\n",
       "    </tr>\n",
       "    <tr>\n",
       "      <th>1</th>\n",
       "      <td>4588a1df2461674252ff01c63b59171a</td>\n",
       "      <td>[2, 3, 4, 5, 6]</td>\n",
       "      <td>20228</td>\n",
       "      <td>2665</td>\n",
       "    </tr>\n",
       "    <tr>\n",
       "      <th>2</th>\n",
       "      <td>e8a0f6906978da77dab3d1d779bf2904</td>\n",
       "      <td>[7]</td>\n",
       "      <td>4836</td>\n",
       "      <td>22543</td>\n",
       "    </tr>\n",
       "    <tr>\n",
       "      <th>3</th>\n",
       "      <td>ab01652daaa15bcbbb21b7c02a8f3646</td>\n",
       "      <td>[8]</td>\n",
       "      <td>3402</td>\n",
       "      <td>14412</td>\n",
       "    </tr>\n",
       "    <tr>\n",
       "      <th>4</th>\n",
       "      <td>4c3694faef04ea6cce28d9d838fc3dda</td>\n",
       "      <td>[9, 10, 11, 12]</td>\n",
       "      <td>15309</td>\n",
       "      <td>17468</td>\n",
       "    </tr>\n",
       "  </tbody>\n",
       "</table>\n",
       "</div>"
      ],
      "text/plain": [
       "                                uid             utag   uwid   ucid\n",
       "0  61fa06d8908d0e4710a599f970f0ab5a           [0, 1]  12507   5545\n",
       "1  4588a1df2461674252ff01c63b59171a  [2, 3, 4, 5, 6]  20228   2665\n",
       "2  e8a0f6906978da77dab3d1d779bf2904              [7]   4836  22543\n",
       "3  ab01652daaa15bcbbb21b7c02a8f3646              [8]   3402  14412\n",
       "4  4c3694faef04ea6cce28d9d838fc3dda  [9, 10, 11, 12]  15309  17468"
      ]
     },
     "execution_count": 38,
     "metadata": {},
     "output_type": "execute_result"
    }
   ],
   "source": [
    "user_info_copy.head()"
   ]
  },
  {
   "cell_type": "code",
   "execution_count": 39,
   "metadata": {
    "collapsed": true
   },
   "outputs": [],
   "source": [
    "max_utag = max(user_info_copy['utag'][0])\n",
    "for i in range(len(user_info_copy['utag'])):\n",
    "    if max_utag < max(user_info_copy['utag'][i]):\n",
    "        max_utag = max(user_info_copy['utag'][i])"
   ]
  },
  {
   "cell_type": "code",
   "execution_count": 40,
   "metadata": {
    "collapsed": false
   },
   "outputs": [],
   "source": [
    "for i in range(max_utag + 1):\n",
    "    user_info_copy['utag_{0}'.format(i)] = 0"
   ]
  },
  {
   "cell_type": "code",
   "execution_count": 41,
   "metadata": {
    "collapsed": false
   },
   "outputs": [
    {
     "data": {
      "text/html": [
       "<div>\n",
       "<table border=\"1\" class=\"dataframe\">\n",
       "  <thead>\n",
       "    <tr style=\"text-align: right;\">\n",
       "      <th></th>\n",
       "      <th>uid</th>\n",
       "      <th>utag</th>\n",
       "      <th>uwid</th>\n",
       "      <th>ucid</th>\n",
       "      <th>utag_0</th>\n",
       "      <th>utag_1</th>\n",
       "      <th>utag_2</th>\n",
       "      <th>utag_3</th>\n",
       "      <th>utag_4</th>\n",
       "      <th>utag_5</th>\n",
       "      <th>...</th>\n",
       "      <th>utag_133</th>\n",
       "      <th>utag_134</th>\n",
       "      <th>utag_135</th>\n",
       "      <th>utag_136</th>\n",
       "      <th>utag_137</th>\n",
       "      <th>utag_138</th>\n",
       "      <th>utag_139</th>\n",
       "      <th>utag_140</th>\n",
       "      <th>utag_141</th>\n",
       "      <th>utag_142</th>\n",
       "    </tr>\n",
       "  </thead>\n",
       "  <tbody>\n",
       "    <tr>\n",
       "      <th>0</th>\n",
       "      <td>61fa06d8908d0e4710a599f970f0ab5a</td>\n",
       "      <td>[0, 1]</td>\n",
       "      <td>12507</td>\n",
       "      <td>5545</td>\n",
       "      <td>0</td>\n",
       "      <td>0</td>\n",
       "      <td>0</td>\n",
       "      <td>0</td>\n",
       "      <td>0</td>\n",
       "      <td>0</td>\n",
       "      <td>...</td>\n",
       "      <td>0</td>\n",
       "      <td>0</td>\n",
       "      <td>0</td>\n",
       "      <td>0</td>\n",
       "      <td>0</td>\n",
       "      <td>0</td>\n",
       "      <td>0</td>\n",
       "      <td>0</td>\n",
       "      <td>0</td>\n",
       "      <td>0</td>\n",
       "    </tr>\n",
       "    <tr>\n",
       "      <th>1</th>\n",
       "      <td>4588a1df2461674252ff01c63b59171a</td>\n",
       "      <td>[2, 3, 4, 5, 6]</td>\n",
       "      <td>20228</td>\n",
       "      <td>2665</td>\n",
       "      <td>0</td>\n",
       "      <td>0</td>\n",
       "      <td>0</td>\n",
       "      <td>0</td>\n",
       "      <td>0</td>\n",
       "      <td>0</td>\n",
       "      <td>...</td>\n",
       "      <td>0</td>\n",
       "      <td>0</td>\n",
       "      <td>0</td>\n",
       "      <td>0</td>\n",
       "      <td>0</td>\n",
       "      <td>0</td>\n",
       "      <td>0</td>\n",
       "      <td>0</td>\n",
       "      <td>0</td>\n",
       "      <td>0</td>\n",
       "    </tr>\n",
       "    <tr>\n",
       "      <th>2</th>\n",
       "      <td>e8a0f6906978da77dab3d1d779bf2904</td>\n",
       "      <td>[7]</td>\n",
       "      <td>4836</td>\n",
       "      <td>22543</td>\n",
       "      <td>0</td>\n",
       "      <td>0</td>\n",
       "      <td>0</td>\n",
       "      <td>0</td>\n",
       "      <td>0</td>\n",
       "      <td>0</td>\n",
       "      <td>...</td>\n",
       "      <td>0</td>\n",
       "      <td>0</td>\n",
       "      <td>0</td>\n",
       "      <td>0</td>\n",
       "      <td>0</td>\n",
       "      <td>0</td>\n",
       "      <td>0</td>\n",
       "      <td>0</td>\n",
       "      <td>0</td>\n",
       "      <td>0</td>\n",
       "    </tr>\n",
       "    <tr>\n",
       "      <th>3</th>\n",
       "      <td>ab01652daaa15bcbbb21b7c02a8f3646</td>\n",
       "      <td>[8]</td>\n",
       "      <td>3402</td>\n",
       "      <td>14412</td>\n",
       "      <td>0</td>\n",
       "      <td>0</td>\n",
       "      <td>0</td>\n",
       "      <td>0</td>\n",
       "      <td>0</td>\n",
       "      <td>0</td>\n",
       "      <td>...</td>\n",
       "      <td>0</td>\n",
       "      <td>0</td>\n",
       "      <td>0</td>\n",
       "      <td>0</td>\n",
       "      <td>0</td>\n",
       "      <td>0</td>\n",
       "      <td>0</td>\n",
       "      <td>0</td>\n",
       "      <td>0</td>\n",
       "      <td>0</td>\n",
       "    </tr>\n",
       "    <tr>\n",
       "      <th>4</th>\n",
       "      <td>4c3694faef04ea6cce28d9d838fc3dda</td>\n",
       "      <td>[9, 10, 11, 12]</td>\n",
       "      <td>15309</td>\n",
       "      <td>17468</td>\n",
       "      <td>0</td>\n",
       "      <td>0</td>\n",
       "      <td>0</td>\n",
       "      <td>0</td>\n",
       "      <td>0</td>\n",
       "      <td>0</td>\n",
       "      <td>...</td>\n",
       "      <td>0</td>\n",
       "      <td>0</td>\n",
       "      <td>0</td>\n",
       "      <td>0</td>\n",
       "      <td>0</td>\n",
       "      <td>0</td>\n",
       "      <td>0</td>\n",
       "      <td>0</td>\n",
       "      <td>0</td>\n",
       "      <td>0</td>\n",
       "    </tr>\n",
       "  </tbody>\n",
       "</table>\n",
       "<p>5 rows × 147 columns</p>\n",
       "</div>"
      ],
      "text/plain": [
       "                                uid             utag   uwid   ucid  utag_0  \\\n",
       "0  61fa06d8908d0e4710a599f970f0ab5a           [0, 1]  12507   5545       0   \n",
       "1  4588a1df2461674252ff01c63b59171a  [2, 3, 4, 5, 6]  20228   2665       0   \n",
       "2  e8a0f6906978da77dab3d1d779bf2904              [7]   4836  22543       0   \n",
       "3  ab01652daaa15bcbbb21b7c02a8f3646              [8]   3402  14412       0   \n",
       "4  4c3694faef04ea6cce28d9d838fc3dda  [9, 10, 11, 12]  15309  17468       0   \n",
       "\n",
       "   utag_1  utag_2  utag_3  utag_4  utag_5    ...     utag_133  utag_134  \\\n",
       "0       0       0       0       0       0    ...            0         0   \n",
       "1       0       0       0       0       0    ...            0         0   \n",
       "2       0       0       0       0       0    ...            0         0   \n",
       "3       0       0       0       0       0    ...            0         0   \n",
       "4       0       0       0       0       0    ...            0         0   \n",
       "\n",
       "   utag_135  utag_136  utag_137  utag_138  utag_139  utag_140  utag_141  \\\n",
       "0         0         0         0         0         0         0         0   \n",
       "1         0         0         0         0         0         0         0   \n",
       "2         0         0         0         0         0         0         0   \n",
       "3         0         0         0         0         0         0         0   \n",
       "4         0         0         0         0         0         0         0   \n",
       "\n",
       "   utag_142  \n",
       "0         0  \n",
       "1         0  \n",
       "2         0  \n",
       "3         0  \n",
       "4         0  \n",
       "\n",
       "[5 rows x 147 columns]"
      ]
     },
     "execution_count": 41,
     "metadata": {},
     "output_type": "execute_result"
    }
   ],
   "source": [
    "user_info_copy.head()"
   ]
  },
  {
   "cell_type": "code",
   "execution_count": 42,
   "metadata": {
    "collapsed": false
   },
   "outputs": [],
   "source": [
    "for i in range(len(user_info_copy)):\n",
    "    num_list = user_info_copy.loc[i, 'utag']\n",
    "    for num in num_list:\n",
    "        user_info_copy.loc[i, 'utag_{0}'.format(num)] = 1"
   ]
  },
  {
   "cell_type": "code",
   "execution_count": 43,
   "metadata": {
    "collapsed": false
   },
   "outputs": [],
   "source": [
    "user_info_copy = user_info_copy.drop(['utag'], axis=1)"
   ]
  },
  {
   "cell_type": "code",
   "execution_count": 44,
   "metadata": {
    "collapsed": false
   },
   "outputs": [],
   "source": [
    "user_info_copy['uwid'] = normal_col(user_info_copy['uwid'])\n",
    "user_info_copy['ucid'] = normal_col(user_info_copy['ucid'])"
   ]
  },
  {
   "cell_type": "code",
   "execution_count": 45,
   "metadata": {
    "collapsed": false
   },
   "outputs": [],
   "source": [
    "# user_info_copy"
   ]
  },
  {
   "cell_type": "code",
   "execution_count": 46,
   "metadata": {
    "collapsed": true
   },
   "outputs": [],
   "source": [
    "invited_info_train_copy.to_csv('invited_info_csv.txt', sep='\\t', index=False)\n",
    "question_info_copy.to_csv('question_info_csv.txt', sep='\\t', index=False)\n",
    "user_info_copy.to_csv('user_info_csv.txt', sep='\\t', index=False)"
   ]
  }
 ],
 "metadata": {
  "anaconda-cloud": {},
  "kernelspec": {
   "display_name": "Python [Root]",
   "language": "python",
   "name": "Python [Root]"
  },
  "language_info": {
   "codemirror_mode": {
    "name": "ipython",
    "version": 2
   },
   "file_extension": ".py",
   "mimetype": "text/x-python",
   "name": "python",
   "nbconvert_exporter": "python",
   "pygments_lexer": "ipython2",
   "version": "2.7.12"
  }
 },
 "nbformat": 4,
 "nbformat_minor": 0
}
