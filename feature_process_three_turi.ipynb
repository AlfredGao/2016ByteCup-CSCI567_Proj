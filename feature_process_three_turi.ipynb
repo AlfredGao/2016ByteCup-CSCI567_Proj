{
 "cells": [
  {
   "cell_type": "code",
   "execution_count": 1,
   "metadata": {
    "collapsed": true
   },
   "outputs": [],
   "source": [
    "import graphlab as gl"
   ]
  },
  {
   "cell_type": "code",
   "execution_count": 30,
   "metadata": {
    "collapsed": false
   },
   "outputs": [
    {
     "data": {
      "text/html": [
       "<pre>Finished parsing file /Users/BoJiang/Documents/USC/CSCI 567 ML/2016ByteCup-CSCI567_Proj/invited_info_csv.txt</pre>"
      ],
      "text/plain": [
       "Finished parsing file /Users/BoJiang/Documents/USC/CSCI 567 ML/2016ByteCup-CSCI567_Proj/invited_info_csv.txt"
      ]
     },
     "metadata": {},
     "output_type": "display_data"
    },
    {
     "data": {
      "text/html": [
       "<pre>Parsing completed. Parsed 100 lines in 0.227657 secs.</pre>"
      ],
      "text/plain": [
       "Parsing completed. Parsed 100 lines in 0.227657 secs."
      ]
     },
     "metadata": {},
     "output_type": "display_data"
    },
    {
     "name": "stdout",
     "output_type": "stream",
     "text": [
      "------------------------------------------------------\n",
      "Inferred types from first 100 line(s) of file as \n",
      "column_type_hints=[str,str,int]\n",
      "If parsing fails due to incorrect types, you can correct\n",
      "the inferred type list above and pass it to read_csv in\n",
      "the column_type_hints argument\n",
      "------------------------------------------------------\n"
     ]
    },
    {
     "data": {
      "text/html": [
       "<pre>Finished parsing file /Users/BoJiang/Documents/USC/CSCI 567 ML/2016ByteCup-CSCI567_Proj/invited_info_csv.txt</pre>"
      ],
      "text/plain": [
       "Finished parsing file /Users/BoJiang/Documents/USC/CSCI 567 ML/2016ByteCup-CSCI567_Proj/invited_info_csv.txt"
      ]
     },
     "metadata": {},
     "output_type": "display_data"
    },
    {
     "data": {
      "text/html": [
       "<pre>Parsing completed. Parsed 229440 lines in 0.317105 secs.</pre>"
      ],
      "text/plain": [
       "Parsing completed. Parsed 229440 lines in 0.317105 secs."
      ]
     },
     "metadata": {},
     "output_type": "display_data"
    }
   ],
   "source": [
    "invite_info_sf = gl.SFrame.read_csv('invited_info_csv.txt', delimiter='\\t')"
   ]
  },
  {
   "cell_type": "code",
   "execution_count": 32,
   "metadata": {
    "collapsed": false
   },
   "outputs": [
    {
     "name": "stdout",
     "output_type": "stream",
     "text": [
      "Canvas is updated and available in a tab in the default browser.\n"
     ]
    }
   ],
   "source": [
    "invite_info_sf.show()"
   ]
  },
  {
   "cell_type": "code",
   "execution_count": 31,
   "metadata": {
    "collapsed": false
   },
   "outputs": [
    {
     "data": {
      "text/html": [
       "<div style=\"max-height:1000px;max-width:1500px;overflow:auto;\"><table frame=\"box\" rules=\"cols\">\n",
       "    <tr>\n",
       "        <th style=\"padding-left: 1em; padding-right: 1em; text-align: center\">qid</th>\n",
       "        <th style=\"padding-left: 1em; padding-right: 1em; text-align: center\">uid</th>\n",
       "        <th style=\"padding-left: 1em; padding-right: 1em; text-align: center\">label</th>\n",
       "    </tr>\n",
       "    <tr>\n",
       "        <td style=\"padding-left: 1em; padding-right: 1em; text-align: center; vertical-align: top\">1c525c9d44135bdc40ddd4b8d<br>63738d8 ...</td>\n",
       "        <td style=\"padding-left: 1em; padding-right: 1em; text-align: center; vertical-align: top\">e6a2ecac7f90d426103de95ba<br>7f6d2b0 ...</td>\n",
       "        <td style=\"padding-left: 1em; padding-right: 1em; text-align: center; vertical-align: top\">0</td>\n",
       "    </tr>\n",
       "    <tr>\n",
       "        <td style=\"padding-left: 1em; padding-right: 1em; text-align: center; vertical-align: top\">43c525e69431f916efcf8d09d<br>99602ac ...</td>\n",
       "        <td style=\"padding-left: 1em; padding-right: 1em; text-align: center; vertical-align: top\">64e1c3152b0ad8ab1a3b6bbda<br>5d2bbe8 ...</td>\n",
       "        <td style=\"padding-left: 1em; padding-right: 1em; text-align: center; vertical-align: top\">1</td>\n",
       "    </tr>\n",
       "    <tr>\n",
       "        <td style=\"padding-left: 1em; padding-right: 1em; text-align: center; vertical-align: top\">e1a1009e93ea09bdd981029b5<br>92d89b8 ...</td>\n",
       "        <td style=\"padding-left: 1em; padding-right: 1em; text-align: center; vertical-align: top\">405c2c59eb73d115b5d73d0d0<br>cfc9c94 ...</td>\n",
       "        <td style=\"padding-left: 1em; padding-right: 1em; text-align: center; vertical-align: top\">1</td>\n",
       "    </tr>\n",
       "    <tr>\n",
       "        <td style=\"padding-left: 1em; padding-right: 1em; text-align: center; vertical-align: top\">60f19c960a9300aabaf95ea49<br>a9fe4c2 ...</td>\n",
       "        <td style=\"padding-left: 1em; padding-right: 1em; text-align: center; vertical-align: top\">11ccc1bae27f606616070eca1<br>2441ffb ...</td>\n",
       "        <td style=\"padding-left: 1em; padding-right: 1em; text-align: center; vertical-align: top\">0</td>\n",
       "    </tr>\n",
       "    <tr>\n",
       "        <td style=\"padding-left: 1em; padding-right: 1em; text-align: center; vertical-align: top\">cb8f85a79be9cd9aae3af4a30<br>2b865a6 ...</td>\n",
       "        <td style=\"padding-left: 1em; padding-right: 1em; text-align: center; vertical-align: top\">628b7aa38efb4c1ce999fe5cd<br>f46a03e ...</td>\n",
       "        <td style=\"padding-left: 1em; padding-right: 1em; text-align: center; vertical-align: top\">0</td>\n",
       "    </tr>\n",
       "    <tr>\n",
       "        <td style=\"padding-left: 1em; padding-right: 1em; text-align: center; vertical-align: top\">51f87230b588bde394167c5f5<br>189570b ...</td>\n",
       "        <td style=\"padding-left: 1em; padding-right: 1em; text-align: center; vertical-align: top\">7476aa28bb582c0ff10172f7e<br>5773dba ...</td>\n",
       "        <td style=\"padding-left: 1em; padding-right: 1em; text-align: center; vertical-align: top\">0</td>\n",
       "    </tr>\n",
       "    <tr>\n",
       "        <td style=\"padding-left: 1em; padding-right: 1em; text-align: center; vertical-align: top\">2c8114aa8218d3499b70e2d74<br>e795380 ...</td>\n",
       "        <td style=\"padding-left: 1em; padding-right: 1em; text-align: center; vertical-align: top\">bd8044d8f3f9c3cff6c9fa51b<br>20c1c4d ...</td>\n",
       "        <td style=\"padding-left: 1em; padding-right: 1em; text-align: center; vertical-align: top\">0</td>\n",
       "    </tr>\n",
       "    <tr>\n",
       "        <td style=\"padding-left: 1em; padding-right: 1em; text-align: center; vertical-align: top\">6928456febe78441e4df6dfcb<br>fabfe73 ...</td>\n",
       "        <td style=\"padding-left: 1em; padding-right: 1em; text-align: center; vertical-align: top\">362a43a6750a835a33a3fbc19<br>fc6a5db ...</td>\n",
       "        <td style=\"padding-left: 1em; padding-right: 1em; text-align: center; vertical-align: top\">0</td>\n",
       "    </tr>\n",
       "    <tr>\n",
       "        <td style=\"padding-left: 1em; padding-right: 1em; text-align: center; vertical-align: top\">e888f91bd5d4710599cf217ee<br>69dbdd6 ...</td>\n",
       "        <td style=\"padding-left: 1em; padding-right: 1em; text-align: center; vertical-align: top\">acfde6daece350084e3a77e98<br>972f2fb ...</td>\n",
       "        <td style=\"padding-left: 1em; padding-right: 1em; text-align: center; vertical-align: top\">0</td>\n",
       "    </tr>\n",
       "    <tr>\n",
       "        <td style=\"padding-left: 1em; padding-right: 1em; text-align: center; vertical-align: top\">400d208277095f149bbbd2f5d<br>c45b501 ...</td>\n",
       "        <td style=\"padding-left: 1em; padding-right: 1em; text-align: center; vertical-align: top\">9de7878db83d8799c37df99a5<br>0129d58 ...</td>\n",
       "        <td style=\"padding-left: 1em; padding-right: 1em; text-align: center; vertical-align: top\">0</td>\n",
       "    </tr>\n",
       "</table>\n",
       "[229440 rows x 3 columns]<br/>Note: Only the head of the SFrame is printed.<br/>You can use print_rows(num_rows=m, num_columns=n) to print more rows and columns.\n",
       "</div>"
      ],
      "text/plain": [
       "Columns:\n",
       "\tqid\tstr\n",
       "\tuid\tstr\n",
       "\tlabel\tint\n",
       "\n",
       "Rows: 229440\n",
       "\n",
       "Data:\n",
       "+-------------------------------+-------------------------------+-------+\n",
       "|              qid              |              uid              | label |\n",
       "+-------------------------------+-------------------------------+-------+\n",
       "| 1c525c9d44135bdc40ddd4b8d6... | e6a2ecac7f90d426103de95ba7... |   0   |\n",
       "| 43c525e69431f916efcf8d09d9... | 64e1c3152b0ad8ab1a3b6bbda5... |   1   |\n",
       "| e1a1009e93ea09bdd981029b59... | 405c2c59eb73d115b5d73d0d0c... |   1   |\n",
       "| 60f19c960a9300aabaf95ea49a... | 11ccc1bae27f606616070eca12... |   0   |\n",
       "| cb8f85a79be9cd9aae3af4a302... | 628b7aa38efb4c1ce999fe5cdf... |   0   |\n",
       "| 51f87230b588bde394167c5f51... | 7476aa28bb582c0ff10172f7e5... |   0   |\n",
       "| 2c8114aa8218d3499b70e2d74e... | bd8044d8f3f9c3cff6c9fa51b2... |   0   |\n",
       "| 6928456febe78441e4df6dfcbf... | 362a43a6750a835a33a3fbc19f... |   0   |\n",
       "| e888f91bd5d4710599cf217ee6... | acfde6daece350084e3a77e989... |   0   |\n",
       "| 400d208277095f149bbbd2f5dc... | 9de7878db83d8799c37df99a50... |   0   |\n",
       "+-------------------------------+-------------------------------+-------+\n",
       "[229440 rows x 3 columns]\n",
       "Note: Only the head of the SFrame is printed.\n",
       "You can use print_rows(num_rows=m, num_columns=n) to print more rows and columns."
      ]
     },
     "execution_count": 31,
     "metadata": {},
     "output_type": "execute_result"
    }
   ],
   "source": [
    "invite_info_sf"
   ]
  },
  {
   "cell_type": "code",
   "execution_count": null,
   "metadata": {
    "collapsed": true
   },
   "outputs": [],
   "source": []
  }
 ],
 "metadata": {
  "kernelspec": {
   "display_name": "Python [Root]",
   "language": "python",
   "name": "Python [Root]"
  },
  "language_info": {
   "codemirror_mode": {
    "name": "ipython",
    "version": 2
   },
   "file_extension": ".py",
   "mimetype": "text/x-python",
   "name": "python",
   "nbconvert_exporter": "python",
   "pygments_lexer": "ipython2",
   "version": "2.7.12"
  }
 },
 "nbformat": 4,
 "nbformat_minor": 0
}
