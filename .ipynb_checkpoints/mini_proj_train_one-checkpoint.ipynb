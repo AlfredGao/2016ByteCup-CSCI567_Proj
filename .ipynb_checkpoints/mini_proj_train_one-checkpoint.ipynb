{
 "cells": [
  {
   "cell_type": "code",
   "execution_count": 1,
   "metadata": {
    "collapsed": true
   },
   "outputs": [],
   "source": [
    "import pandas as pd\n",
    "import numpy as np\n",
    "import matplotlib.pyplot as plt"
   ]
  },
  {
   "cell_type": "code",
   "execution_count": 2,
   "metadata": {
    "collapsed": true
   },
   "outputs": [],
   "source": [
    "invited_info = pd.read_csv('invited_info_csv.txt', sep='\\t')\n",
    "question_info = pd.read_csv('question_info_csv.txt', sep='\\t')\n",
    "user_info = pd.read_csv('user_info_csv.txt', sep='\\t')"
   ]
  },
  {
   "cell_type": "code",
   "execution_count": 3,
   "metadata": {
    "collapsed": false
   },
   "outputs": [],
   "source": [
    "invited_info = invited_info.drop(['Unnamed: 0'], axis=1)\n",
    "question_info = question_info.drop(['Unnamed: 0'], axis=1)\n",
    "user_info = user_info.drop(['Unnamed: 0'], axis=1)"
   ]
  },
  {
   "cell_type": "code",
   "execution_count": 4,
   "metadata": {
    "collapsed": false
   },
   "outputs": [],
   "source": [
    "all_info = invited_info.merge(question_info, left_on='qid', right_on='qid', how='left')"
   ]
  },
  {
   "cell_type": "code",
   "execution_count": 5,
   "metadata": {
    "collapsed": false
   },
   "outputs": [],
   "source": [
    "all_info = all_info.merge(user_info, left_on='uid', right_on='uid', how='left')"
   ]
  },
  {
   "cell_type": "code",
   "execution_count": 6,
   "metadata": {
    "collapsed": false
   },
   "outputs": [],
   "source": [
    "# all_info.head()"
   ]
  },
  {
   "cell_type": "code",
   "execution_count": 7,
   "metadata": {
    "collapsed": false
   },
   "outputs": [],
   "source": [
    "label_series = all_info['label']"
   ]
  },
  {
   "cell_type": "code",
   "execution_count": 8,
   "metadata": {
    "collapsed": false
   },
   "outputs": [],
   "source": [
    "label_array = np.array(label_series)"
   ]
  },
  {
   "cell_type": "code",
   "execution_count": 9,
   "metadata": {
    "collapsed": false
   },
   "outputs": [],
   "source": [
    "feature_dataframe = all_info.loc[:, 'qwid':'utag_142']"
   ]
  },
  {
   "cell_type": "code",
   "execution_count": 10,
   "metadata": {
    "collapsed": false
   },
   "outputs": [],
   "source": [
    "feature_name = list(feature_dataframe.columns)\n",
    "# feature_name"
   ]
  },
  {
   "cell_type": "code",
   "execution_count": 11,
   "metadata": {
    "collapsed": false
   },
   "outputs": [],
   "source": [
    "feature_matrix = feature_dataframe.as_matrix()"
   ]
  },
  {
   "cell_type": "code",
   "execution_count": 12,
   "metadata": {
    "collapsed": false
   },
   "outputs": [],
   "source": [
    "# from sklearn.feature_selection import RFE\n",
    "# from sklearn.linear_model import SGDRegressor\n",
    "# model = SGDRegressor()\n",
    "# selector = RFE(model, step=1)\n",
    "# selector = selector.fit(feature_matrix, label_array)\n",
    "\n",
    "# model.fit(feature_matrix, label_array)"
   ]
  },
  {
   "cell_type": "code",
   "execution_count": 13,
   "metadata": {
    "collapsed": false
   },
   "outputs": [],
   "source": [
    "validate_nolabel = pd.read_csv('./bytecup2016data/validate_nolabel.txt', sep=',')"
   ]
  },
  {
   "cell_type": "code",
   "execution_count": 14,
   "metadata": {
    "collapsed": false
   },
   "outputs": [],
   "source": [
    "# validate_nolabel.head()"
   ]
  },
  {
   "cell_type": "code",
   "execution_count": 15,
   "metadata": {
    "collapsed": true
   },
   "outputs": [],
   "source": [
    "valitate_set = validate_nolabel.merge(question_info, left_on='qid', right_on='qid', how='left')"
   ]
  },
  {
   "cell_type": "code",
   "execution_count": 16,
   "metadata": {
    "collapsed": true
   },
   "outputs": [],
   "source": [
    "valitate_set = valitate_set.merge(user_info, left_on='uid', right_on='uid', how='left')"
   ]
  },
  {
   "cell_type": "code",
   "execution_count": 17,
   "metadata": {
    "collapsed": false
   },
   "outputs": [],
   "source": [
    "# valitate_set.head()"
   ]
  },
  {
   "cell_type": "code",
   "execution_count": 18,
   "metadata": {
    "collapsed": true
   },
   "outputs": [],
   "source": [
    "valitate_set_matrix = valitate_set.loc[:,'qwid':'utag_142'].as_matrix()"
   ]
  },
  {
   "cell_type": "code",
   "execution_count": 19,
   "metadata": {
    "collapsed": false
   },
   "outputs": [
    {
     "data": {
      "text/plain": [
       "(30466, 172)"
      ]
     },
     "execution_count": 19,
     "metadata": {},
     "output_type": "execute_result"
    }
   ],
   "source": [
    "valitate_set_matrix.shape"
   ]
  },
  {
   "cell_type": "code",
   "execution_count": 20,
   "metadata": {
    "collapsed": false
   },
   "outputs": [],
   "source": [
    "# predict_result = model.predict(valitate_set_matrix)\n",
    "# predict_result\n",
    "\n",
    "# validate_nolabel['label'] = predict_result + 0.2"
   ]
  },
  {
   "cell_type": "code",
   "execution_count": 21,
   "metadata": {
    "collapsed": false
   },
   "outputs": [],
   "source": [
    "# validate_nolabel.to_csv('validate_nolabel.csv', sep=',', index=False)"
   ]
  },
  {
   "cell_type": "code",
   "execution_count": 22,
   "metadata": {
    "collapsed": false
   },
   "outputs": [],
   "source": [
    "from sklearn.decomposition import IncrementalPCA\n",
    "ipca = IncrementalPCA(n_components=90)\n",
    "ipca.fit(feature_matrix)\n",
    "feature_matrix_pca = ipca.transform(feature_matrix) "
   ]
  },
  {
   "cell_type": "code",
   "execution_count": 23,
   "metadata": {
    "collapsed": false
   },
   "outputs": [],
   "source": [
    "# feature_matrix_pca.shape"
   ]
  },
  {
   "cell_type": "code",
   "execution_count": 24,
   "metadata": {
    "collapsed": true
   },
   "outputs": [],
   "source": [
    "ipca2 = IncrementalPCA(n_components=90)\n",
    "ipca2.fit(valitate_set_matrix)\n",
    "valitate_set_matrix_pca = ipca2.transform(valitate_set_matrix)"
   ]
  },
  {
   "cell_type": "code",
   "execution_count": 25,
   "metadata": {
    "collapsed": false
   },
   "outputs": [],
   "source": [
    "# valitate_set_matrix_pca.shape"
   ]
  },
  {
   "cell_type": "code",
   "execution_count": 26,
   "metadata": {
    "collapsed": false
   },
   "outputs": [],
   "source": [
    "# from sklearn.linear_model import SGDRegressor\n",
    "# model = SGDRegressor()\n",
    "# model.fit(feature_matrix_pca, label_array)"
   ]
  },
  {
   "cell_type": "code",
   "execution_count": 27,
   "metadata": {
    "collapsed": false
   },
   "outputs": [],
   "source": [
    "# predict_result = model.predict(valitate_set_matrix_pca)"
   ]
  },
  {
   "cell_type": "code",
   "execution_count": 28,
   "metadata": {
    "collapsed": false
   },
   "outputs": [],
   "source": [
    "# max(predict_result)"
   ]
  },
  {
   "cell_type": "code",
   "execution_count": 29,
   "metadata": {
    "collapsed": false
   },
   "outputs": [],
   "source": [
    "import xgboost as xgb"
   ]
  },
  {
   "cell_type": "code",
   "execution_count": 44,
   "metadata": {
    "collapsed": false
   },
   "outputs": [],
   "source": [
    "dtrain = xgb.DMatrix(feature_matrix[:160608], label=label_array[:160608], feature_names=feature_name)"
   ]
  },
  {
   "cell_type": "code",
   "execution_count": 45,
   "metadata": {
    "collapsed": false
   },
   "outputs": [],
   "source": [
    "dtest = xgb.DMatrix(feature_matrix[160608:], label=label_array[160608:], feature_names=feature_name)"
   ]
  },
  {
   "cell_type": "code",
   "execution_count": 32,
   "metadata": {
    "collapsed": false
   },
   "outputs": [],
   "source": [
    "# dtrain"
   ]
  },
  {
   "cell_type": "code",
   "execution_count": 49,
   "metadata": {
    "collapsed": true
   },
   "outputs": [],
   "source": [
    "param = {'bst:max_depth':6, 'bst:eta':1, 'silent':1, 'objective':'reg:logistic' }\n",
    "param['nthread'] = 4\n",
    "param['eval_metric'] = 'mae'"
   ]
  },
  {
   "cell_type": "code",
   "execution_count": 50,
   "metadata": {
    "collapsed": false
   },
   "outputs": [],
   "source": [
    "num_round = 100"
   ]
  },
  {
   "cell_type": "code",
   "execution_count": 51,
   "metadata": {
    "collapsed": true
   },
   "outputs": [],
   "source": [
    "evallist  = [(dtest,'eval'), (dtrain,'train')]"
   ]
  },
  {
   "cell_type": "code",
   "execution_count": 52,
   "metadata": {
    "collapsed": false
   },
   "outputs": [
    {
     "name": "stdout",
     "output_type": "stream",
     "text": [
      "[0]\teval-auc:0.633397\ttrain-auc:0.637601\n",
      "[1]\teval-auc:0.639972\ttrain-auc:0.646397\n",
      "[2]\teval-auc:0.643692\ttrain-auc:0.65252\n",
      "[3]\teval-auc:0.645938\ttrain-auc:0.659342\n",
      "[4]\teval-auc:0.650083\ttrain-auc:0.663872\n",
      "[5]\teval-auc:0.652695\ttrain-auc:0.668882\n",
      "[6]\teval-auc:0.656319\ttrain-auc:0.672682\n",
      "[7]\teval-auc:0.657928\ttrain-auc:0.676174\n",
      "[8]\teval-auc:0.661836\ttrain-auc:0.680495\n",
      "[9]\teval-auc:0.662519\ttrain-auc:0.682028\n",
      "[10]\teval-auc:0.664264\ttrain-auc:0.684588\n",
      "[11]\teval-auc:0.666653\ttrain-auc:0.686472\n",
      "[12]\teval-auc:0.66752\ttrain-auc:0.688834\n",
      "[13]\teval-auc:0.670342\ttrain-auc:0.691238\n",
      "[14]\teval-auc:0.673183\ttrain-auc:0.694702\n",
      "[15]\teval-auc:0.674214\ttrain-auc:0.696369\n",
      "[16]\teval-auc:0.676756\ttrain-auc:0.698783\n",
      "[17]\teval-auc:0.678651\ttrain-auc:0.701963\n",
      "[18]\teval-auc:0.679898\ttrain-auc:0.704384\n",
      "[19]\teval-auc:0.680948\ttrain-auc:0.70552\n",
      "[20]\teval-auc:0.68171\ttrain-auc:0.706603\n",
      "[21]\teval-auc:0.68389\ttrain-auc:0.709716\n",
      "[22]\teval-auc:0.684592\ttrain-auc:0.710878\n",
      "[23]\teval-auc:0.68522\ttrain-auc:0.712023\n",
      "[24]\teval-auc:0.685708\ttrain-auc:0.713246\n",
      "[25]\teval-auc:0.686455\ttrain-auc:0.71415\n",
      "[26]\teval-auc:0.688101\ttrain-auc:0.715957\n",
      "[27]\teval-auc:0.688864\ttrain-auc:0.717201\n",
      "[28]\teval-auc:0.689596\ttrain-auc:0.718355\n",
      "[29]\teval-auc:0.690819\ttrain-auc:0.719961\n",
      "[30]\teval-auc:0.691006\ttrain-auc:0.720687\n",
      "[31]\teval-auc:0.691761\ttrain-auc:0.721712\n",
      "[32]\teval-auc:0.692894\ttrain-auc:0.723938\n",
      "[33]\teval-auc:0.693134\ttrain-auc:0.725609\n",
      "[34]\teval-auc:0.693745\ttrain-auc:0.726778\n",
      "[35]\teval-auc:0.693765\ttrain-auc:0.727683\n",
      "[36]\teval-auc:0.694541\ttrain-auc:0.729937\n",
      "[37]\teval-auc:0.698374\ttrain-auc:0.733527\n",
      "[38]\teval-auc:0.700627\ttrain-auc:0.73595\n",
      "[39]\teval-auc:0.702525\ttrain-auc:0.738331\n",
      "[40]\teval-auc:0.703378\ttrain-auc:0.739355\n",
      "[41]\teval-auc:0.705246\ttrain-auc:0.741745\n",
      "[42]\teval-auc:0.707043\ttrain-auc:0.743612\n",
      "[43]\teval-auc:0.707261\ttrain-auc:0.743937\n",
      "[44]\teval-auc:0.707273\ttrain-auc:0.744097\n",
      "[45]\teval-auc:0.710361\ttrain-auc:0.746548\n",
      "[46]\teval-auc:0.71087\ttrain-auc:0.747557\n",
      "[47]\teval-auc:0.712199\ttrain-auc:0.749646\n",
      "[48]\teval-auc:0.713521\ttrain-auc:0.750714\n",
      "[49]\teval-auc:0.715049\ttrain-auc:0.751901\n",
      "[50]\teval-auc:0.716973\ttrain-auc:0.754171\n",
      "[51]\teval-auc:0.718002\ttrain-auc:0.755119\n",
      "[52]\teval-auc:0.72005\ttrain-auc:0.757352\n",
      "[53]\teval-auc:0.720414\ttrain-auc:0.757654\n",
      "[54]\teval-auc:0.723785\ttrain-auc:0.760422\n",
      "[55]\teval-auc:0.724387\ttrain-auc:0.762452\n",
      "[56]\teval-auc:0.725238\ttrain-auc:0.763558\n",
      "[57]\teval-auc:0.725337\ttrain-auc:0.763712\n",
      "[58]\teval-auc:0.725353\ttrain-auc:0.764086\n",
      "[59]\teval-auc:0.725666\ttrain-auc:0.764388\n",
      "[60]\teval-auc:0.72581\ttrain-auc:0.764749\n",
      "[61]\teval-auc:0.726051\ttrain-auc:0.765332\n",
      "[62]\teval-auc:0.726326\ttrain-auc:0.766033\n",
      "[63]\teval-auc:0.726872\ttrain-auc:0.767992\n",
      "[64]\teval-auc:0.727108\ttrain-auc:0.768481\n",
      "[65]\teval-auc:0.729552\ttrain-auc:0.770947\n",
      "[66]\teval-auc:0.729679\ttrain-auc:0.771426\n",
      "[67]\teval-auc:0.730529\ttrain-auc:0.772381\n",
      "[68]\teval-auc:0.732167\ttrain-auc:0.773935\n",
      "[69]\teval-auc:0.732573\ttrain-auc:0.774503\n",
      "[70]\teval-auc:0.73247\ttrain-auc:0.775192\n",
      "[71]\teval-auc:0.733251\ttrain-auc:0.776269\n",
      "[72]\teval-auc:0.733389\ttrain-auc:0.776583\n",
      "[73]\teval-auc:0.733556\ttrain-auc:0.776786\n",
      "[74]\teval-auc:0.733545\ttrain-auc:0.777107\n",
      "[75]\teval-auc:0.733723\ttrain-auc:0.777548\n",
      "[76]\teval-auc:0.735055\ttrain-auc:0.778842\n",
      "[77]\teval-auc:0.736464\ttrain-auc:0.780761\n",
      "[78]\teval-auc:0.73654\ttrain-auc:0.781819\n",
      "[79]\teval-auc:0.736783\ttrain-auc:0.783351\n",
      "[80]\teval-auc:0.737243\ttrain-auc:0.784421\n",
      "[81]\teval-auc:0.737601\ttrain-auc:0.784952\n",
      "[82]\teval-auc:0.738158\ttrain-auc:0.785851\n",
      "[83]\teval-auc:0.739263\ttrain-auc:0.78678\n",
      "[84]\teval-auc:0.740807\ttrain-auc:0.788387\n",
      "[85]\teval-auc:0.741252\ttrain-auc:0.789227\n",
      "[86]\teval-auc:0.743322\ttrain-auc:0.791242\n",
      "[87]\teval-auc:0.743751\ttrain-auc:0.79212\n",
      "[88]\teval-auc:0.743716\ttrain-auc:0.79264\n",
      "[89]\teval-auc:0.743905\ttrain-auc:0.792852\n",
      "[90]\teval-auc:0.74386\ttrain-auc:0.793542\n",
      "[91]\teval-auc:0.743839\ttrain-auc:0.79473\n",
      "[92]\teval-auc:0.743881\ttrain-auc:0.795518\n",
      "[93]\teval-auc:0.743974\ttrain-auc:0.796296\n",
      "[94]\teval-auc:0.74403\ttrain-auc:0.797067\n",
      "[95]\teval-auc:0.74422\ttrain-auc:0.797879\n",
      "[96]\teval-auc:0.744249\ttrain-auc:0.798344\n",
      "[97]\teval-auc:0.745278\ttrain-auc:0.799588\n",
      "[98]\teval-auc:0.74629\ttrain-auc:0.801133\n",
      "[99]\teval-auc:0.746638\ttrain-auc:0.801563\n"
     ]
    }
   ],
   "source": [
    "bst = xgb.train( param.items(), dtrain, num_round, evallist)"
   ]
  },
  {
   "cell_type": "code",
   "execution_count": 37,
   "metadata": {
    "collapsed": false
   },
   "outputs": [],
   "source": [
    "# bst.get_fscore()"
   ]
  },
  {
   "cell_type": "code",
   "execution_count": 38,
   "metadata": {
    "collapsed": false
   },
   "outputs": [],
   "source": [
    "dvalidate = xgb.DMatrix(valitate_set_matrix, feature_names=feature_name)"
   ]
  },
  {
   "cell_type": "code",
   "execution_count": 39,
   "metadata": {
    "collapsed": false
   },
   "outputs": [],
   "source": [
    "pre = bst.predict(dvalidate)\n",
    "# from graphviz import *"
   ]
  },
  {
   "cell_type": "code",
   "execution_count": 40,
   "metadata": {
    "collapsed": false
   },
   "outputs": [],
   "source": [
    "# fig1 = plt.figure(figsize=(15, 15))"
   ]
  },
  {
   "cell_type": "code",
   "execution_count": 41,
   "metadata": {
    "collapsed": true
   },
   "outputs": [],
   "source": [
    "validate_nolabel['label'] = pre"
   ]
  },
  {
   "cell_type": "code",
   "execution_count": 42,
   "metadata": {
    "collapsed": true
   },
   "outputs": [],
   "source": [
    "validate_nolabel.to_csv('validate_nolabel.csv', sep=',', index=False)"
   ]
  },
  {
   "cell_type": "code",
   "execution_count": 43,
   "metadata": {
    "collapsed": true
   },
   "outputs": [],
   "source": [
    "# plt.show()"
   ]
  }
 ],
 "metadata": {
  "anaconda-cloud": {},
  "kernelspec": {
   "display_name": "Python [Root]",
   "language": "python",
   "name": "Python [Root]"
  },
  "language_info": {
   "codemirror_mode": {
    "name": "ipython",
    "version": 2
   },
   "file_extension": ".py",
   "mimetype": "text/x-python",
   "name": "python",
   "nbconvert_exporter": "python",
   "pygments_lexer": "ipython2",
   "version": "2.7.12"
  }
 },
 "nbformat": 4,
 "nbformat_minor": 0
}
